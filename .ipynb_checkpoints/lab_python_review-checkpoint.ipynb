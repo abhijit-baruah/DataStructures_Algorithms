{
 "cells": [
  {
   "cell_type": "markdown",
   "metadata": {
    "button": false,
    "new_sheet": false,
    "run_control": {
     "read_only": false
    }
   },
   "source": [
    "# Lab 1: Python Review\n",
    "## GitHub: abhijit-baruah"
   ]
  },
  {
   "cell_type": "markdown",
   "metadata": {
    "button": false,
    "new_sheet": false,
    "run_control": {
     "read_only": false
    }
   },
   "source": [
    "## Fraction Class\n",
    "\n",
    "The textbook provides this minimally function `Fraction` class. You will complete several exercises to improve on the design of this custom data type.\n",
    "\n",
    "The function `gcd`, defined below, is necessary for `Fraction` to work."
   ]
  },
  {
   "cell_type": "code",
   "execution_count": 1,
   "metadata": {
    "button": false,
    "new_sheet": false,
    "run_control": {
     "read_only": false
    }
   },
   "outputs": [],
   "source": [
    "def gcd(m, n):\n",
    "    \"\"\"Greatest Common Divisor\n",
    "    M&R listing 1.6: Greatest Common Divisor Function\n",
    "    \"\"\"\n",
    "    #if m modulo(n) is zero then, n is the gcd and we return n anyway\n",
    "    #In all other cases where: n=mx for some x, m!=n here is what follows\n",
    "    \n",
    "    while m % n != 0: \n",
    "        oldm = m\n",
    "        oldn = n\n",
    "\n",
    "        m = oldn # the switch between m and n is made here for the second run under the while loop \n",
    "        n = oldm % oldn\n",
    "    return n"
   ]
  },
  {
   "cell_type": "code",
   "execution_count": 2,
   "metadata": {},
   "outputs": [
    {
     "data": {
      "text/plain": [
       "3"
      ]
     },
     "execution_count": 2,
     "metadata": {},
     "output_type": "execute_result"
    }
   ],
   "source": [
    "gcd(-3, 6) #Checking if gcd functions works as expected"
   ]
  },
  {
   "cell_type": "markdown",
   "metadata": {
    "button": false,
    "new_sheet": false,
    "run_control": {
     "read_only": false
    }
   },
   "source": [
    "## Your Exercises\n",
    "\n",
    " 1. Implement these simple 'getter' methods for class `Fraction`:\n",
    " \n",
    "    * `get_num` to return the numerator\n",
    "    * `get_den` to return the denominator.\n",
    "\n",
    " 1. In many ways it would be better if all fractions were maintained in lowest\n",
    "    terms right from the start. Modify the initializer for the `Fraction`\n",
    "    class so that the GCD alogorithm is used to reduce fractions immediately. \n",
    "    Notice that this means the `__add__` method no longer needs to reduce. Make the\n",
    "    necessary modifications.\n",
    "    \n",
    " 1. Implement the remaining relational operators to allow you to compare one `Fraction` object, with another.\n",
    "\n",
    "     * `__gt__`\n",
    "     * `__ge__`\n",
    "     * `__lt__`\n",
    "     * `__le__`\n",
    "     * `__ne__`\n",
    "     \n",
    " 1. In the definition of fractions we assumed that negative fractions have a\n",
    "    negative numerator and a positive denominator. Using a negative denominator\n",
    "    would cause some of the relational operators to give incorrect results. In\n",
    "    general, this is an unnecessary constraint. Modify the constructor to allow\n",
    "    the user to pass a negative denominator so that all of the operators continue\n",
    "    to work properly."
   ]
  },
  {
   "cell_type": "markdown",
   "metadata": {
    "button": false,
    "new_sheet": false,
    "run_control": {
     "read_only": false
    }
   },
   "source": [
    "## <font color=green>Your Solution</font>\n",
    "\n",
    "Implement your solution to the exercises by modifying the `Fraction` class, below, and add your code to it. To make it clear, please use docstrings and comments where appropriate to state which parts of the `Fraction` class are being modified, and for *which* exercise."
   ]
  },
  {
   "cell_type": "code",
   "execution_count": 3,
   "metadata": {
    "button": false,
    "new_sheet": false,
    "run_control": {
     "read_only": false
    }
   },
   "outputs": [],
   "source": [
    "class Fraction:\n",
    "    \"\"\"A class to represent fractions\n",
    "    \n",
    "    This code needs to be improved according to the exercises!\n",
    "    \"\"\"\n",
    "    def __init__(self, top, bottom):\n",
    "        self.num = top\n",
    "        self.den = bottom\n",
    "        # Exercise 2: modification of initializer to reduce fractions\n",
    "        self._newnum = self.num / gcd(top,bottom)\n",
    "        self._newden = self.den / gcd(top,bottom)\n",
    "        \n",
    "        ## Part of Exercise 3 and 4: Modifying constructor to account for negative denominators. ##\n",
    "        \n",
    "        # we construct the identifiers for the numerators and denominators of the functions such that \n",
    "        # if at all there is a negative denominator then both numerator and denominator is multiplied by -1.\n",
    "        # This should automatically take care of the issues that a negative denominator poses to relational operators \n",
    "        # in the fraction class.\n",
    "        # At the same time, in accordance with the definition of fractions, any negative fraction would be considered to have\n",
    "        # a negative numerator and a positive denominator. This also conforms to our code.\n",
    "        if self.den < 0:\n",
    "            a=-self.num\n",
    "            self.num=a\n",
    "            b=-self.den\n",
    "            self.den=b\n",
    "        \n",
    "    \n",
    "    ## Exercise 1 ##\n",
    "    \n",
    "    # Getter methods to return numerator and denominator\n",
    "    def get_num(self):\n",
    "        return(self.num) #returns numerator (positive for positive fraction and negative otherwise)\n",
    "    def get_den(self): \n",
    "        return(self.den) #returns denominator (always positive)\n",
    "    \n",
    "    def __str__(self):\n",
    "        return str(self.num) + \"/\" + str(self.den)\n",
    "\n",
    "    def show(self):\n",
    "        \"\"\"Display the fraction\"\"\"\n",
    "        print(self.num, \"/\", self.den)\n",
    "\n",
    "    ## Exercise 2: modification of add function after modifying initializers to reduce fractions ##\n",
    "    \n",
    "    # since our fractions are already reduced to lowest, we ignored the reduction code in the original script.\n",
    "    def __add__(self, otherfraction):\n",
    "        new_num = int(self._newnum*otherfraction._newden + self._newden*otherfraction._newnum)\n",
    "        new_den = int(self._newden * otherfraction._newden)\n",
    "        return Fraction(new_num, new_den)\n",
    "\n",
    "    \n",
    "    ## Exercise 3: Relational operators and consideration of negative fractions. ##\n",
    "    \n",
    "    # Although equality check is not affected by this, we still make the modifications to maintain uniformity in our codes.\n",
    "    # Since the modifications to our constructor takes care of negative fractions according to its mathematical definition,\n",
    "    # the incorrectness in relational operators due to an user input of a negative denominator gets takes cared of.\n",
    "    # It remains to check for any two fractions a/b and x/y the relation between ay and bx.\n",
    "    \n",
    "    def __eq__(self, other):\n",
    "        first_num = self.num * other.den\n",
    "        second_num = other.num * self.den\n",
    "        return first_num == second_num\n",
    "    \n",
    "    def __gt__(self, other):\n",
    "        first_num = self.num * other.den\n",
    "        second_num = other.num * self.den\n",
    "        return first_num > second_num\n",
    "    \n",
    "    def __ge__(self, other):\n",
    "        first_num = self.num * other.den\n",
    "        second_num = other.num * self.den\n",
    "        return first_num >= second_num\n",
    "    \n",
    "    def __lt__(self, other):\n",
    "        first_num = self.num * other.den\n",
    "        second_num = other.num * self.den\n",
    "        return first_num < second_num\n",
    "    \n",
    "    def __le__(self, other):\n",
    "        first_num = self.num * other.den\n",
    "        second_num = other.num * self.den\n",
    "        return first_num <= second_num\n",
    "    \n",
    "    def __ne__(self, other):\n",
    "        first_num = self.num * other.den\n",
    "        second_num = other.num * self.den\n",
    "        return first_num != second_num\n",
    "    "
   ]
  },
  {
   "cell_type": "markdown",
   "metadata": {
    "button": false,
    "new_sheet": false,
    "run_control": {
     "read_only": false
    }
   },
   "source": [
    "## Testing\n",
    "\n",
    "For full credit, you must also test your solution so that you can prove to the grade your solution works."
   ]
  },
  {
   "cell_type": "code",
   "execution_count": 4,
   "metadata": {
    "button": false,
    "new_sheet": false,
    "run_control": {
     "read_only": false
    }
   },
   "outputs": [],
   "source": [
    "# Testing with positive fractions\n",
    "x = Fraction(1, 2)\n",
    "y = Fraction(2, 3)"
   ]
  },
  {
   "cell_type": "code",
   "execution_count": 5,
   "metadata": {},
   "outputs": [],
   "source": [
    "# Testing with mixed fractions where user inputs a negative denominator\n",
    "u = Fraction(3, -6)\n",
    "v = Fraction(2, 5)"
   ]
  },
  {
   "cell_type": "code",
   "execution_count": 6,
   "metadata": {},
   "outputs": [],
   "source": [
    "# Testing with both negtive fractions\n",
    "p = Fraction(2,-5)\n",
    "q = Fraction(-1, 3)"
   ]
  },
  {
   "cell_type": "markdown",
   "metadata": {},
   "source": [
    "## Test of addition"
   ]
  },
  {
   "cell_type": "code",
   "execution_count": 7,
   "metadata": {
    "button": false,
    "new_sheet": false,
    "run_control": {
     "read_only": false
    },
    "scrolled": true
   },
   "outputs": [
    {
     "name": "stdout",
     "output_type": "stream",
     "text": [
      "1/2 + 2/3 = 7/6\n"
     ]
    }
   ],
   "source": [
    "print(f'{x} + {y} =',x+y)"
   ]
  },
  {
   "cell_type": "code",
   "execution_count": 8,
   "metadata": {},
   "outputs": [
    {
     "name": "stdout",
     "output_type": "stream",
     "text": [
      "-3/6 + 2/5 = -1/10\n"
     ]
    }
   ],
   "source": [
    "print(f'{u} + {v} =',u+v)"
   ]
  },
  {
   "cell_type": "code",
   "execution_count": 9,
   "metadata": {},
   "outputs": [
    {
     "name": "stdout",
     "output_type": "stream",
     "text": [
      "-2/5 + -1/3 = -11/15\n"
     ]
    }
   ],
   "source": [
    "print(f'{p} + {q} =',p+q)"
   ]
  },
  {
   "cell_type": "markdown",
   "metadata": {},
   "source": [
    "## Test of Getter functions"
   ]
  },
  {
   "cell_type": "code",
   "execution_count": 10,
   "metadata": {},
   "outputs": [
    {
     "name": "stdout",
     "output_type": "stream",
     "text": [
      "-2   5\n"
     ]
    }
   ],
   "source": [
    "print(p.get_num(),' ', p.get_den()) # For fraction p = -2/5"
   ]
  },
  {
   "cell_type": "code",
   "execution_count": 11,
   "metadata": {},
   "outputs": [
    {
     "name": "stdout",
     "output_type": "stream",
     "text": [
      "1   3\n"
     ]
    }
   ],
   "source": [
    "print(x.get_num(),' ', y.get_den()) # For fraction x = 1/2 and y = 2/3"
   ]
  },
  {
   "cell_type": "markdown",
   "metadata": {},
   "source": [
    "## Test of Relational Operators"
   ]
  },
  {
   "cell_type": "code",
   "execution_count": 12,
   "metadata": {
    "button": false,
    "new_sheet": false,
    "run_control": {
     "read_only": false
    }
   },
   "outputs": [
    {
     "name": "stdout",
     "output_type": "stream",
     "text": [
      "Is 1/2 = 2/3? False\n",
      "Is 1/2 > 2/3? False\n",
      "Is 1/2 >= 2/3? False\n",
      "Is 1/2 < 2/3? True\n",
      "Is 1/2 <= 2/3? True\n",
      "Is 1/2 != 2/3? True\n"
     ]
    }
   ],
   "source": [
    "print(f'Is {x} = {y}?',x == y)\n",
    "print(f'Is {x} > {y}?', x>y)\n",
    "print(f'Is {x} >= {y}?', x>=y)\n",
    "print(f'Is {x} < {y}?', x<y)\n",
    "print(f'Is {x} <= {y}?', x<=y)\n",
    "print(f'Is {x} != {y}?', x!=y)"
   ]
  },
  {
   "cell_type": "code",
   "execution_count": 13,
   "metadata": {},
   "outputs": [
    {
     "name": "stdout",
     "output_type": "stream",
     "text": [
      "Is -3/6 = 2/5? False\n",
      "Is -3/6 > 2/5? False\n",
      "Is -3/6 >= 2/5? False\n",
      "Is -3/6 < 2/5? True\n",
      "Is -3/6 <= 2/5? True\n",
      "Is -3/6 != 2/5? True\n"
     ]
    }
   ],
   "source": [
    "print(f'Is {u} = {v}?',u == v)\n",
    "print(f'Is {u} > {v}?', u>v)\n",
    "print(f'Is {u} >= {v}?', u>=v)\n",
    "print(f'Is {u} < {v}?', u<v)\n",
    "print(f'Is {u} <= {v}?', u<=v)\n",
    "print(f'Is {u} != {v}?', u!=v)"
   ]
  },
  {
   "cell_type": "code",
   "execution_count": 14,
   "metadata": {},
   "outputs": [
    {
     "name": "stdout",
     "output_type": "stream",
     "text": [
      "Is -2/5 = -1/3? False\n",
      "Is -2/5 > -1/3? False\n",
      "Is -2/5 >= -1/3? False\n",
      "Is -2/5 < -1/3? True\n",
      "Is -2/5 <= -1/3? True\n",
      "Is -2/5 != -1/3? True\n"
     ]
    }
   ],
   "source": [
    "print(f'Is {p} = {q}?', p == q)\n",
    "print(f'Is {p} > {q}?', p>q)\n",
    "print(f'Is {p} >= {q}?', p>=q)\n",
    "print(f'Is {p} < {q}?', p<q)\n",
    "print(f'Is {p} <= {q}?', p<=q)\n",
    "print(f'Is {p} != {q}?', p!=q)"
   ]
  }
 ],
 "metadata": {
  "kernelspec": {
   "display_name": "Python 3",
   "language": "python",
   "name": "python3"
  },
  "language_info": {
   "codemirror_mode": {
    "name": "ipython",
    "version": 3
   },
   "file_extension": ".py",
   "mimetype": "text/x-python",
   "name": "python",
   "nbconvert_exporter": "python",
   "pygments_lexer": "ipython3",
   "version": "3.7.1"
  }
 },
 "nbformat": 4,
 "nbformat_minor": 2
}
