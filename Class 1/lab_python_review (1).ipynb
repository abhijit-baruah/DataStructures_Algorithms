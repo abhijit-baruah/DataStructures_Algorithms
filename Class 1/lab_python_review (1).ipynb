{
 "cells": [
  {
   "cell_type": "markdown",
   "metadata": {
    "button": false,
    "deletable": true,
    "new_sheet": false,
    "run_control": {
     "read_only": false
    }
   },
   "source": [
    "# Lab 1: Python Review"
   ]
  },
  {
   "cell_type": "markdown",
   "metadata": {
    "button": false,
    "deletable": true,
    "new_sheet": false,
    "run_control": {
     "read_only": false
    }
   },
   "source": [
    "## Fraction Class\n",
    "\n",
    "The textbook provides this minimally function `Fraction` class. You will complete several exercises to improve on the design of this custom data type.\n",
    "\n",
    "The function `gcd`, defined below, is necessary for `Fraction` to work."
   ]
  },
  {
   "cell_type": "code",
   "execution_count": null,
   "metadata": {
    "button": false,
    "collapsed": true,
    "deletable": true,
    "new_sheet": false,
    "run_control": {
     "read_only": false
    }
   },
   "outputs": [],
   "source": [
    "def gcd(m, n):\n",
    "    \"\"\"Greatest Common Divisor\n",
    "    M&R listing 1.6: Greatest Common Divisor Function\n",
    "    \"\"\"\n",
    "    while m % n != 0:\n",
    "        oldm = m\n",
    "        oldn = n\n",
    "\n",
    "        m = oldn\n",
    "        n = oldm % oldn\n",
    "    return n"
   ]
  },
  {
   "cell_type": "markdown",
   "metadata": {
    "button": false,
    "deletable": true,
    "new_sheet": false,
    "run_control": {
     "read_only": false
    }
   },
   "source": [
    "## Your Exercises\n",
    "\n",
    " 1. Implement these simple 'getter' methods for class `Fraction`:\n",
    " \n",
    "    * `get_num` to return the numerator\n",
    "    * `get_den` to return the denominator.\n",
    "\n",
    " 1. In many ways it would be better if all fractions were maintained in lowest\n",
    "    terms right from the start. Modify the initializer for the `Fraction`\n",
    "    class so that the GCD alogorithm is used to reduce fractions immediately. \n",
    "    Notice that this means the `__add__` method no longer needs to reduce. Make the\n",
    "    necessary modifications.\n",
    "    \n",
    " 1. Implement the remaining relational operators to allow you to compare one `Fraction` object, with another.\n",
    "\n",
    "     * `__gt__`\n",
    "     * `__ge__`\n",
    "     * `__lt__`\n",
    "     * `__le__`\n",
    "     * `__ne__`\n",
    "     \n",
    " 1. In the definition of fractions we assumed that negative fractions have a\n",
    "    negative numerator and a positive denominator. Using a negative denominator\n",
    "    would cause some of the relational operators to give incorrect results. In\n",
    "    general, this is an unnecessary constraint. Modify the constructor to allow\n",
    "    the user to pass a negative denominator so that all of the operators continue\n",
    "    to work properly."
   ]
  },
  {
   "cell_type": "markdown",
   "metadata": {
    "button": false,
    "deletable": true,
    "new_sheet": false,
    "run_control": {
     "read_only": false
    }
   },
   "source": [
    "## <font color=green>Your Solution</font>\n",
    "\n",
    "Implement your solution to the exercises by modifying the `Fraction` class, below, and add your code to it. To make it clear, please use docstrings and comments where appropriate to state which parts of the `Fraction` class are being modified, and for *which* exercise."
   ]
  },
  {
   "cell_type": "code",
   "execution_count": 43,
   "metadata": {
    "button": false,
    "collapsed": true,
    "deletable": true,
    "new_sheet": false,
    "run_control": {
     "read_only": false
    }
   },
   "outputs": [],
   "source": [
    "class Fraction:\n",
    "    \"\"\"A class to represent fractions\n",
    "    \n",
    "    This code needs to be improved according to the exercises!\n",
    "    \"\"\"\n",
    "    def __init__(self, top, bottom):\n",
    "        self.num = top\n",
    "        self.den = bottom\n",
    "\n",
    "    def __str__(self):\n",
    "        return str(self.num) + \"/\" + str(self.den)\n",
    "\n",
    "    def show(self):\n",
    "        \"\"\"Display the fraction\"\"\"\n",
    "        print(self.num, \"/\", self.den)\n",
    "\n",
    "    def __add__(self, otherfraction):\n",
    "        newnum = (self.num*otherfraction.den +\n",
    "                  self.den*otherfraction.num)\n",
    "        newden = self.den * otherfraction.den\n",
    "        common = gcd(newnum, newden)\n",
    "        return Fraction(newnum//common, newden//common)\n",
    "\n",
    "    def __eq__(self, other):\n",
    "        firstnum = self.num * other.den\n",
    "        secondnum = other.num * self.den\n",
    "        return firstnum == secondnum"
   ]
  },
  {
   "cell_type": "markdown",
   "metadata": {
    "button": false,
    "deletable": true,
    "new_sheet": false,
    "run_control": {
     "read_only": false
    }
   },
   "source": [
    "## Testing\n",
    "\n",
    "For full credit, you must also test your solution so that you can prove to the grade your solution works."
   ]
  },
  {
   "cell_type": "code",
   "execution_count": null,
   "metadata": {
    "button": false,
    "collapsed": true,
    "deletable": true,
    "new_sheet": false,
    "run_control": {
     "read_only": false
    }
   },
   "outputs": [],
   "source": [
    "x = Fraction(1, 2)\n",
    "y = Fraction(2, 3)"
   ]
  },
  {
   "cell_type": "code",
   "execution_count": null,
   "metadata": {
    "button": false,
    "collapsed": true,
    "deletable": true,
    "new_sheet": false,
    "run_control": {
     "read_only": false
    }
   },
   "outputs": [],
   "source": [
    "print(x+y)"
   ]
  },
  {
   "cell_type": "code",
   "execution_count": null,
   "metadata": {
    "button": false,
    "collapsed": true,
    "deletable": true,
    "new_sheet": false,
    "run_control": {
     "read_only": false
    }
   },
   "outputs": [],
   "source": [
    "print(x == y)"
   ]
  }
 ],
 "metadata": {
  "kernelspec": {
   "display_name": "Python 3",
   "language": "python",
   "name": "python3"
  },
  "language_info": {
   "codemirror_mode": {
    "name": "ipython",
    "version": 3
   },
   "file_extension": ".py",
   "mimetype": "text/x-python",
   "name": "python",
   "nbconvert_exporter": "python",
   "pygments_lexer": "ipython3",
   "version": "3.7.7"
  }
 },
 "nbformat": 4,
 "nbformat_minor": 2
}
