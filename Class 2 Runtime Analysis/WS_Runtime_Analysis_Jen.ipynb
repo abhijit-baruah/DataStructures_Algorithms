{
 "cells": [
  {
   "cell_type": "code",
   "execution_count": 1,
   "metadata": {},
   "outputs": [
    {
     "data": {
      "text/plain": [
       "<Figure size 640x480 with 1 Axes>"
      ]
     },
     "metadata": {},
     "output_type": "display_data"
    },
    {
     "name": "stdout",
     "output_type": "stream",
     "text": [
      "(999,)\n",
      "0.0010044574737548828\n",
      "0.0\n"
     ]
    }
   ],
   "source": [
    "import time # we use time instead of timeit for the simplicity provided by the time package\n",
    "from matplotlib import pyplot as plt\n",
    "import random\n",
    "\n",
    "# first we create a function that will return the value associated with any index from a list\n",
    "# our inputs here are the list and index, while output is the single associated value\n",
    "def list_index_operation(alist,index):\n",
    "    return alist[index]\n",
    "\n",
    "# creating empty lists to store max value of N and time-values for y-axis\n",
    "N = []\n",
    "y1 = []\n",
    "\n",
    "# create a list that mathematically signifies N approaching a large value from an initial value\n",
    "for i in range(100, 100000, 100):\n",
    "    N.append(i)\n",
    "\n",
    "# 2. Devise an experiment to verify that the list index operator is O(1)\n",
    "for n in N:\n",
    "    alist = range(n) # this is the list that we populated to select index from\n",
    "    random_index = random.randint(0, n-1) # uniform random selection of one index from the list\n",
    "    \n",
    "    start1 = time.time() # this is our starting time\n",
    "    \n",
    "    # we can choose to not run this in a loop\n",
    "    # but the time difference would be too small to consider\n",
    "    for repeat in range(100): \n",
    "        list_index_operation(alist, random_index)\n",
    "        \n",
    "    end1 = time.time() # end time after 100 iterations of retreiving value from a list index\n",
    "    \n",
    "    y1.append(end1-start1) # calculating the difference in time and storing as a list of time values for y-axis\n",
    "\n",
    "    \n",
    "plt.plot(y1)\n",
    "plt.ylim(-0.0005,0.0015)\n",
    "plt.show()\n",
    "\n",
    "import numpy as np\n",
    "print(np.shape(y1)) # check the shape of y1\n",
    "print(np.max(y1)) # check maximum time needed to implement same index operation 100 times\n",
    "print(np.min(y1)) "
   ]
  },
  {
   "cell_type": "code",
   "execution_count": 2,
   "metadata": {},
   "outputs": [
    {
     "data": {
      "image/png": "[encoded data removed]",
      "text/plain": [
       "<Figure size 432x288 with 1 Axes>"
      ]
     },
     "metadata": {
      "needs_background": "light"
     },
     "output_type": "display_data"
    },
    {
     "name": "stdout",
     "output_type": "stream",
     "text": [
      "(990,)\n",
      "0.0010192394256591797\n",
      "0.0\n"
     ]
    }
   ],
   "source": [
    "import time # we use time instead of timeit for the simplicity provided by the time package\n",
    "from matplotlib import pyplot as plt\n",
    "import random\n",
    "\n",
    "# first we create a function that will return the value associated with any index from a list\n",
    "# our inputs here are the list and index, while output is the single associated value\n",
    "def dict_get_operation(adict,index):\n",
    "    adict.get(index)\n",
    "    \n",
    "def dict_set_operation(adict,index):\n",
    "    adict[index] = 10\n",
    "\n",
    "# creating empty lists to store max value of N and time-values for y-axis\n",
    "N = []\n",
    "y2 = []\n",
    "y3 = []\n",
    "\n",
    "# create a list that mathematically signifies N approaching a large value from an initial value\n",
    "for i in range(1000, 100000, 100):\n",
    "    N.append(i)\n",
    "\n",
    "# 2. Devise an experiment to verify that the list index operator is O(1)\n",
    "for n in N:\n",
    "    adict = {j:None for j in range(n)} # this is the dictionary that we populated to select index from\n",
    "    random_index = random.randint(0, n-1) # uniform random selection of one index from the list\n",
    "    \n",
    "    start2 = time.time() # this is our starting time\n",
    "    \n",
    "    # we can choose to not run this in a loop\n",
    "    # but the time difference would be too small to consider\n",
    "    for repeat in range(50): \n",
    "        \n",
    "        dict_get_operation(adict, random_index)\n",
    "        \n",
    "        \n",
    "    end2 = time.time() # end time after 100 iterations of retreiving value from a list index\n",
    "    \n",
    "    y2.append(end2-start2) # calculating the difference in time and storing as a list of time values for y-axis\n",
    " \n",
    "    start3 = time.time() # this is our starting time\n",
    "    \n",
    "    # we can choose to not run this in a loop\n",
    "    # but the time difference would be too small to consider\n",
    "    for repeat in range(50): \n",
    "        \n",
    "        dict_set_operation(adict, random_index)\n",
    "        \n",
    "        \n",
    "    end3 = time.time() # end time after 100 iterations of retreiving value from a list index\n",
    "    \n",
    "    y3.append(end3-start3) # calculating the difference in time and storing as a list of time values for y-axis\n",
    "\n",
    "    \n",
    "plt.plot(y2)\n",
    "plt.ylim(0, 0.0005)\n",
    "plt.show()\n",
    "\n",
    "import numpy as np\n",
    "print(np.shape(y2)) # check the shape of y2\n",
    "print(np.max(y2)) # check maximum time needed to implement same index operation 100 times\n",
    "print(np.min(y2)) "
   ]
  },
  {
   "cell_type": "code",
   "execution_count": 3,
   "metadata": {},
   "outputs": [
    {
     "data": {
      "image/png": "[encoded data removed]",
      "text/plain": [
       "<Figure size 432x288 with 1 Axes>"
      ]
     },
     "metadata": {
      "needs_background": "light"
     },
     "output_type": "display_data"
    },
    {
     "name": "stdout",
     "output_type": "stream",
     "text": [
      "(990,)\n",
      "0.001004934310913086\n",
      "0.0\n"
     ]
    }
   ],
   "source": [
    "plt.plot(y3)\n",
    "plt.ylim(0, 0.0005)\n",
    "plt.show()\n",
    "\n",
    "import numpy as np\n",
    "print(np.shape(y3)) # check the shape of y2\n",
    "print(np.max(y3)) # check maximum time needed to implement same index operation 100 times\n",
    "print(np.min(y3)) "
   ]
  },
  {
   "cell_type": "code",
   "execution_count": null,
   "metadata": {},
   "outputs": [],
   "source": []
  },
  {
   "cell_type": "code",
   "execution_count": null,
   "metadata": {},
   "outputs": [],
   "source": []
  },
  {
   "cell_type": "code",
   "execution_count": null,
   "metadata": {},
   "outputs": [],
   "source": []
  }
 ],
 "metadata": {
  "kernelspec": {
   "display_name": "Python 3",
   "language": "python",
   "name": "python3"
  },
  "language_info": {
   "codemirror_mode": {
    "name": "ipython",
    "version": 3
   },
   "file_extension": ".py",
   "mimetype": "text/x-python",
   "name": "python",
   "nbconvert_exporter": "python",
   "pygments_lexer": "ipython3",
   "version": "3.7.1"
  }
 },
 "nbformat": 4,
 "nbformat_minor": 2
}
