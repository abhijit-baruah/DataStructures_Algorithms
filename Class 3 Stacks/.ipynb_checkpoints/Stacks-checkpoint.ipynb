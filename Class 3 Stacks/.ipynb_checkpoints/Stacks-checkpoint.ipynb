{
 "cells": [
  {
   "cell_type": "markdown",
   "metadata": {},
   "source": [
    "# Building a Stack"
   ]
  },
  {
   "cell_type": "code",
   "execution_count": 33,
   "metadata": {},
   "outputs": [],
   "source": [
    "class Stack:\n",
    "    def __init__(self):\n",
    "        self.items = []  # or, use 'list()'\n",
    "        \n",
    "    def is_empty(self):\n",
    "        return self.items == []\n",
    "    \n",
    "    def size(self):\n",
    "        return len(self.items)\n",
    "    \n",
    "    def peek(self):\n",
    "        # look at last item in our underlying list\n",
    "        if len(self.items):\n",
    "            return self.items[-1]\n",
    "        else:\n",
    "            return None\n",
    "        \n",
    "        \"\"\"\n",
    "        Alternative, using exception handling:\n",
    "        try:\n",
    "            return self.items[-1]\n",
    "        except IndexError:\n",
    "            return None\n",
    "        \"\"\"\n",
    "    \n",
    "        \"\"\"\n",
    "        How negative indexing works:\n",
    "        return (self.items[len(self.items)-1])  # last item in a list\n",
    "        return (self.items[len(self.items)-2])  # secont to last\n",
    "        return (self.items[len(self.items)-3])  # third to last\n",
    "        return (self.items[len(self.items)-4])  # fourth to last\n",
    "\n",
    "        return (self.items[-1])  # last item in a list\n",
    "        return (self.items[-2])  # secont to last\n",
    "        return (self.items[-3])  # third to last\n",
    "        return (self.items[-4])  # fourth to last\n",
    "        \"\"\"\n",
    "\n",
    "    def push(self, item):\n",
    "        self.items.append(item)\n",
    "        \n",
    "        # If you wish to prepend items at the start of your list\n",
    "        # and peek/pop from index 0 do this.\n",
    "        # Warning: not efficient.\n",
    "        # self.insert(0, item)\n",
    "        \n",
    "    def pop(self):\n",
    "        return self.items.pop()"
   ]
  },
  {
   "cell_type": "markdown",
   "metadata": {},
   "source": [
    "## Using our Stack"
   ]
  },
  {
   "cell_type": "code",
   "execution_count": 34,
   "metadata": {},
   "outputs": [],
   "source": [
    "s = Stack()"
   ]
  },
  {
   "cell_type": "code",
   "execution_count": 35,
   "metadata": {},
   "outputs": [
    {
     "data": {
      "text/plain": [
       "0"
      ]
     },
     "execution_count": 35,
     "metadata": {},
     "output_type": "execute_result"
    }
   ],
   "source": [
    "s.size()"
   ]
  },
  {
   "cell_type": "code",
   "execution_count": 36,
   "metadata": {},
   "outputs": [
    {
     "name": "stdout",
     "output_type": "stream",
     "text": [
      "None\n"
     ]
    }
   ],
   "source": [
    "print(s.peek())"
   ]
  },
  {
   "cell_type": "code",
   "execution_count": 37,
   "metadata": {},
   "outputs": [],
   "source": [
    "from random import sample\n",
    "nums = sample(range(100), k=20)"
   ]
  },
  {
   "cell_type": "code",
   "execution_count": 38,
   "metadata": {},
   "outputs": [
    {
     "name": "stdout",
     "output_type": "stream",
     "text": [
      "[51, 52, 88, 4, 9, 47, 84, 81, 45, 42, 33, 48, 12, 46, 37, 72, 39, 21, 43, 49]\n"
     ]
    }
   ],
   "source": [
    "print(nums)"
   ]
  },
  {
   "cell_type": "code",
   "execution_count": 39,
   "metadata": {},
   "outputs": [],
   "source": [
    "for n in nums:\n",
    "    s.push(n)"
   ]
  },
  {
   "cell_type": "code",
   "execution_count": 40,
   "metadata": {},
   "outputs": [
    {
     "data": {
      "text/plain": [
       "<__main__.Stack at 0x10f621090>"
      ]
     },
     "execution_count": 40,
     "metadata": {},
     "output_type": "execute_result"
    }
   ],
   "source": [
    "s"
   ]
  },
  {
   "cell_type": "code",
   "execution_count": 41,
   "metadata": {},
   "outputs": [
    {
     "data": {
      "text/plain": [
       "49"
      ]
     },
     "execution_count": 41,
     "metadata": {},
     "output_type": "execute_result"
    }
   ],
   "source": [
    "s.peek()"
   ]
  },
  {
   "cell_type": "code",
   "execution_count": 42,
   "metadata": {},
   "outputs": [
    {
     "name": "stdout",
     "output_type": "stream",
     "text": [
      "Stack before pop(): 49\n",
      "Popped value: 49\n",
      "Stack after pop(): 43\n",
      "\n",
      "Stack before pop(): 43\n",
      "Popped value: 43\n",
      "Stack after pop(): 21\n",
      "\n",
      "Stack before pop(): 21\n",
      "Popped value: 21\n",
      "Stack after pop(): 39\n",
      "\n",
      "Stack before pop(): 39\n",
      "Popped value: 39\n",
      "Stack after pop(): 72\n",
      "\n",
      "Stack before pop(): 72\n",
      "Popped value: 72\n",
      "Stack after pop(): 37\n",
      "\n",
      "Stack before pop(): 37\n",
      "Popped value: 37\n",
      "Stack after pop(): 46\n",
      "\n",
      "Stack before pop(): 46\n",
      "Popped value: 46\n",
      "Stack after pop(): 12\n",
      "\n",
      "Stack before pop(): 12\n",
      "Popped value: 12\n",
      "Stack after pop(): 48\n",
      "\n",
      "Stack before pop(): 48\n",
      "Popped value: 48\n",
      "Stack after pop(): 33\n",
      "\n",
      "Stack before pop(): 33\n",
      "Popped value: 33\n",
      "Stack after pop(): 42\n",
      "\n",
      "Stack before pop(): 42\n",
      "Popped value: 42\n",
      "Stack after pop(): 45\n",
      "\n",
      "Stack before pop(): 45\n",
      "Popped value: 45\n",
      "Stack after pop(): 81\n",
      "\n",
      "Stack before pop(): 81\n",
      "Popped value: 81\n",
      "Stack after pop(): 84\n",
      "\n",
      "Stack before pop(): 84\n",
      "Popped value: 84\n",
      "Stack after pop(): 47\n",
      "\n",
      "Stack before pop(): 47\n",
      "Popped value: 47\n",
      "Stack after pop(): 9\n",
      "\n",
      "Stack before pop(): 9\n",
      "Popped value: 9\n",
      "Stack after pop(): 4\n",
      "\n",
      "Stack before pop(): 4\n",
      "Popped value: 4\n",
      "Stack after pop(): 88\n",
      "\n",
      "Stack before pop(): 88\n",
      "Popped value: 88\n",
      "Stack after pop(): 52\n",
      "\n",
      "Stack before pop(): 52\n",
      "Popped value: 52\n",
      "Stack after pop(): 51\n",
      "\n",
      "Stack before pop(): 51\n",
      "Popped value: 51\n",
      "Stack after pop(): None\n",
      "\n"
     ]
    }
   ],
   "source": [
    "for i in range(s.size()):\n",
    "    print(f\"Stack before pop(): {s.peek()}\")\n",
    "    print(f\"Popped value: {s.pop()}\")\n",
    "    print(f\"Stack after pop(): {s.peek()}\")\n",
    "    print()"
   ]
  },
  {
   "cell_type": "markdown",
   "metadata": {},
   "source": [
    "## Transferring to our `pythonds9` project\n",
    "\n",
    "Once transferred to our development Python `pythonds9` package, we can now import our new ADT anywhere"
   ]
  },
  {
   "cell_type": "code",
   "execution_count": 44,
   "metadata": {},
   "outputs": [],
   "source": [
    "from pythonds9.basic.stack import Stack as StackDS9"
   ]
  },
  {
   "cell_type": "code",
   "execution_count": 45,
   "metadata": {},
   "outputs": [
    {
     "name": "stdout",
     "output_type": "stream",
     "text": [
      "<class '__main__.Stack'> <class 'pythonds9.basic.stack.Stack'>\n"
     ]
    }
   ],
   "source": [
    "print(Stack, StackDS9)"
   ]
  },
  {
   "cell_type": "code",
   "execution_count": 46,
   "metadata": {},
   "outputs": [],
   "source": [
    "s2 = StackDS9()"
   ]
  },
  {
   "cell_type": "code",
   "execution_count": 47,
   "metadata": {},
   "outputs": [],
   "source": [
    "for n in nums:\n",
    "    s2.push(n)"
   ]
  },
  {
   "cell_type": "code",
   "execution_count": 48,
   "metadata": {},
   "outputs": [
    {
     "data": {
      "text/plain": [
       "20"
      ]
     },
     "execution_count": 48,
     "metadata": {},
     "output_type": "execute_result"
    }
   ],
   "source": [
    "s2.size()"
   ]
  },
  {
   "cell_type": "code",
   "execution_count": null,
   "metadata": {},
   "outputs": [],
   "source": []
  }
 ],
 "metadata": {
  "kernelspec": {
   "display_name": "Python 3",
   "language": "python",
   "name": "python3"
  },
  "language_info": {
   "codemirror_mode": {
    "name": "ipython",
    "version": 3
   },
   "file_extension": ".py",
   "mimetype": "text/x-python",
   "name": "python",
   "nbconvert_exporter": "python",
   "pygments_lexer": "ipython3",
   "version": "3.7.1"
  }
 },
 "nbformat": 4,
 "nbformat_minor": 4
}
