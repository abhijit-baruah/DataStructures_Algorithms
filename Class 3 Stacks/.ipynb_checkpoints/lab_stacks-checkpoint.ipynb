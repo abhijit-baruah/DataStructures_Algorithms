{
 "cells": [
  {
   "cell_type": "markdown",
   "metadata": {
    "button": false,
    "new_sheet": false,
    "run_control": {
     "read_only": false
    }
   },
   "source": [
    "# Lab 3: Stacks"
   ]
  },
  {
   "cell_type": "markdown",
   "metadata": {
    "button": false,
    "new_sheet": false,
    "run_control": {
     "read_only": false
    }
   },
   "source": [
    "## <font color=DarkRed>Your Exercise: Implement a stack using linked lists.</font>\n",
    "\n",
    "Our in-class implementation of the `Stack` class uses the Python `list` data type as the underlying data structure. Instead, replace the use of the Python `list` data type with write your own `Node` class, which we used to build a singly linked-list."
   ]
  },
  {
   "cell_type": "markdown",
   "metadata": {
    "button": false,
    "new_sheet": false,
    "run_control": {
     "read_only": false
    }
   },
   "source": [
    "## <font color=green>Your Solution</font>\n",
    "\n",
    "*Use a variety of code, Markdown (text) cells below to create your solution. Nice outputs would be timing results, and even plots. You will be graded not only on correctness, but the clarity of your code, descriptive text and other output. Keep it succinct.*\n",
    "\n",
    "## GitHub: abhijit-baruah"
   ]
  },
  {
   "cell_type": "code",
   "execution_count": 1,
   "metadata": {},
   "outputs": [],
   "source": [
    "# start by creating the Node class that sets data in a node and creates an empty next node\n",
    "class Node: \n",
    "\n",
    "    def __init__(self,data): \n",
    "        self.data = data \n",
    "        self.next = None\n",
    "      "
   ]
  },
  {
   "cell_type": "code",
   "execution_count": 2,
   "metadata": {},
   "outputs": [],
   "source": [
    "class Stack():\n",
    "    \n",
    "    # we initialize a default NULL head\n",
    "    def __init__(self): \n",
    "        self.head = None\n",
    "    \n",
    "    # check whether stack is empty\n",
    "    def is_empty(self):\n",
    "        if self.head == None:\n",
    "            return True\n",
    "        else:\n",
    "            return False\n",
    "    \n",
    "    # peeking the stack\n",
    "    def peek(self):\n",
    "        if self.head == None:\n",
    "            return None\n",
    "        else:\n",
    "            return self.head.data\n",
    "    \n",
    "    # method to add data to the stack\n",
    "    def push(self, item):\n",
    "        # if this is the first item in the stack\n",
    "        if self.head == None:\n",
    "            self.head = Node(item)\n",
    "        else:\n",
    "            # create a new_node and set the item into its data field\n",
    "            new_node = Node(item) \n",
    "            # shift head node to this new node\n",
    "            new_node.next = self.head \n",
    "            self.head = new_node\n",
    "    \n",
    "    # method to pop data from stack\n",
    "    def pop(self):\n",
    "        # if stack is non-empty\n",
    "        if self.head:\n",
    "            # pick the to-be-popped node and call it pop_node\n",
    "            pop_node = self.head\n",
    "            # shift the head node before popping to the preceeding head node\n",
    "            self.head = self.head.next\n",
    "            # reset the pop_node for subsequent popping\n",
    "            pop_node.next = None\n",
    "            return pop_node.data\n",
    "        \n",
    "        # if stack is empty\n",
    "        else:\n",
    "            return None\n",
    "            \n",
    "    def size(self):\n",
    "        current = self.head\n",
    "        count = 0\n",
    "        while current != None:\n",
    "            count += 1\n",
    "            current = current.next\n",
    "        return count\n",
    "    \n",
    "    def __len__(self):\n",
    "        return self.size()\n",
    "    \n",
    "    def __bool__(self):\n",
    "        return self.size() != 0\n",
    "    \n",
    "    def __repr__(self):\n",
    "        return \"Stack()\"\n",
    "    \n",
    "    def __str__(self):\n",
    "        if self.head != None:\n",
    "            current = self.head\n",
    "            v = \"[ Stack: \" + str(current.data)\n",
    "            current = current.next\n",
    "            while current != None:\n",
    "                v += ' --> ' + str(current.data)\n",
    "                current = current.next\n",
    "            v += \" ]\"\n",
    "            return v\n",
    "        else:\n",
    "            return \"[Stack is empty]\"\n",
    "    \n",
    "    def __contains__(self, item):\n",
    "        current = self.head\n",
    "        found = False\n",
    "        while current != None and not found:\n",
    "            if current.data == item:\n",
    "                found = True\n",
    "            else:\n",
    "                current = current.next\n",
    "        return found\n",
    "    \n",
    "        \n",
    "            "
   ]
  },
  {
   "cell_type": "markdown",
   "metadata": {
    "button": false,
    "new_sheet": false,
    "run_control": {
     "read_only": false
    }
   },
   "source": [
    "## Testing\n",
    "### Balanced Symbol Checker\n",
    "\n",
    "When finished, test your updated `Stack` class by running the **balanced symbol checker** from the textbook."
   ]
  },
  {
   "cell_type": "markdown",
   "metadata": {},
   "source": [
    "## First we check the basic functionality of this new `Stack` class"
   ]
  },
  {
   "cell_type": "code",
   "execution_count": 3,
   "metadata": {
    "button": false,
    "new_sheet": false,
    "run_control": {
     "read_only": false
    }
   },
   "outputs": [],
   "source": [
    "s = Stack()\n",
    "s_empty = Stack()"
   ]
  },
  {
   "cell_type": "code",
   "execution_count": 4,
   "metadata": {},
   "outputs": [
    {
     "data": {
      "text/plain": [
       "Stack()"
      ]
     },
     "execution_count": 4,
     "metadata": {},
     "output_type": "execute_result"
    }
   ],
   "source": [
    "s # checks __repr__"
   ]
  },
  {
   "cell_type": "code",
   "execution_count": 5,
   "metadata": {},
   "outputs": [],
   "source": [
    "s.push(1)\n",
    "s.push(2)\n",
    "s.push(3)\n",
    "s.push(4)\n",
    "s.push(5)"
   ]
  },
  {
   "cell_type": "code",
   "execution_count": 6,
   "metadata": {},
   "outputs": [
    {
     "name": "stdout",
     "output_type": "stream",
     "text": [
      "[ Stack: 5 --> 4 --> 3 --> 2 --> 1 ]\n"
     ]
    }
   ],
   "source": [
    "print(s) # checks __str__"
   ]
  },
  {
   "cell_type": "code",
   "execution_count": 7,
   "metadata": {},
   "outputs": [
    {
     "data": {
      "text/plain": [
       "Stack()"
      ]
     },
     "execution_count": 7,
     "metadata": {},
     "output_type": "execute_result"
    }
   ],
   "source": [
    "s_empty"
   ]
  },
  {
   "cell_type": "code",
   "execution_count": 8,
   "metadata": {},
   "outputs": [
    {
     "name": "stdout",
     "output_type": "stream",
     "text": [
      "[Stack is empty]\n"
     ]
    }
   ],
   "source": [
    "print(s_empty)"
   ]
  },
  {
   "cell_type": "code",
   "execution_count": 9,
   "metadata": {},
   "outputs": [
    {
     "name": "stdout",
     "output_type": "stream",
     "text": [
      "Is stack:s empty? False\n",
      "Is stack:s_empty empty? True\n"
     ]
    }
   ],
   "source": [
    "# check is_empty\n",
    "print(f'Is stack:s empty? {s.is_empty()}')\n",
    "print(f'Is stack:s_empty empty? {s_empty.is_empty()}')"
   ]
  },
  {
   "cell_type": "code",
   "execution_count": 10,
   "metadata": {},
   "outputs": [
    {
     "name": "stdout",
     "output_type": "stream",
     "text": [
      "The top element of the stack is: 5\n"
     ]
    }
   ],
   "source": [
    "# check peek\n",
    "print(f'The top element of the stack is: {s.peek()}')"
   ]
  },
  {
   "cell_type": "code",
   "execution_count": 11,
   "metadata": {},
   "outputs": [
    {
     "name": "stdout",
     "output_type": "stream",
     "text": [
      "Stack after deleting one top item is s: [ Stack: 4 --> 3 --> 2 --> 1 ]\n"
     ]
    }
   ],
   "source": [
    "# pop/delete top element of stack\n",
    "s.pop()\n",
    "print(f'Stack after deleting one top item is s: {s}')"
   ]
  },
  {
   "cell_type": "code",
   "execution_count": 12,
   "metadata": {},
   "outputs": [
    {
     "data": {
      "text/plain": [
       "4"
      ]
     },
     "execution_count": 12,
     "metadata": {},
     "output_type": "execute_result"
    }
   ],
   "source": [
    "# pop next top item\n",
    "s.pop()"
   ]
  },
  {
   "cell_type": "code",
   "execution_count": 13,
   "metadata": {},
   "outputs": [
    {
     "name": "stdout",
     "output_type": "stream",
     "text": [
      "Size of the stack is 3\n"
     ]
    }
   ],
   "source": [
    "# check size after popping next item\n",
    "print(f'Size of the stack is {s.size()}')"
   ]
  },
  {
   "cell_type": "code",
   "execution_count": 14,
   "metadata": {},
   "outputs": [
    {
     "data": {
      "text/plain": [
       "3"
      ]
     },
     "execution_count": 14,
     "metadata": {},
     "output_type": "execute_result"
    }
   ],
   "source": [
    "len(s) # check __len__"
   ]
  },
  {
   "cell_type": "code",
   "execution_count": 15,
   "metadata": {},
   "outputs": [
    {
     "name": "stdout",
     "output_type": "stream",
     "text": [
      "Is 2 in stack:s ? True\n",
      "Is 8 in stack:s ? False\n"
     ]
    }
   ],
   "source": [
    "# check __contains__\n",
    "print(f'Is 2 in stack:s ? {2 in s}')\n",
    "print(f'Is 8 in stack:s ? {8 in s}')"
   ]
  },
  {
   "cell_type": "code",
   "execution_count": 16,
   "metadata": {},
   "outputs": [
    {
     "data": {
      "text/plain": [
       "True"
      ]
     },
     "execution_count": 16,
     "metadata": {},
     "output_type": "execute_result"
    }
   ],
   "source": [
    "bool(s)"
   ]
  },
  {
   "cell_type": "code",
   "execution_count": 17,
   "metadata": {},
   "outputs": [
    {
     "data": {
      "text/plain": [
       "False"
      ]
     },
     "execution_count": 17,
     "metadata": {},
     "output_type": "execute_result"
    }
   ],
   "source": [
    "bool(s_empty)"
   ]
  },
  {
   "cell_type": "markdown",
   "metadata": {},
   "source": [
    "## Checking with Balanced Symbol Checker"
   ]
  },
  {
   "cell_type": "code",
   "execution_count": 18,
   "metadata": {},
   "outputs": [],
   "source": [
    "def matches(_open, close):\n",
    "    openers = \"([{<\"\n",
    "    closers = \")]}>\"\n",
    "    return openers.index(_open) == closers.index(close)"
   ]
  },
  {
   "cell_type": "code",
   "execution_count": 19,
   "metadata": {},
   "outputs": [],
   "source": [
    "def par_checker(symbol_string):\n",
    "    s = Stack()\n",
    "    balanced = True\n",
    "    index = 0\n",
    "    \n",
    "    while index < len(symbol_string) and balanced:\n",
    "        symbol = symbol_string[index]\n",
    "        \n",
    "        if symbol in \"([{<\":\n",
    "            s.push(symbol)\n",
    "        else:  # we have a \")\"\n",
    "            if s.is_empty():\n",
    "                # There is no left parens in the stack to match this right one\n",
    "                balanced = False\n",
    "            else:\n",
    "                # Pop out a right parens to reduce stack size\n",
    "                top = s.pop()\n",
    "                if not matches(top, symbol):\n",
    "                    balanced = False\n",
    "                \n",
    "        index += 1\n",
    "        \n",
    "    return balanced and s.is_empty()"
   ]
  },
  {
   "cell_type": "code",
   "execution_count": 20,
   "metadata": {},
   "outputs": [
    {
     "name": "stdout",
     "output_type": "stream",
     "text": [
      "Is {{([][])}()} balanced ? True\n"
     ]
    }
   ],
   "source": [
    "# check using a balanced stack of symbols\n",
    "s1 = '{{([][])}()}'\n",
    "print(f'Is {s1} balanced ? {par_checker(s1)}')"
   ]
  },
  {
   "cell_type": "code",
   "execution_count": 21,
   "metadata": {},
   "outputs": [
    {
     "name": "stdout",
     "output_type": "stream",
     "text": [
      "Is [{()] balanced ? False\n"
     ]
    }
   ],
   "source": [
    "# check using an unbalanced stack of symbols\n",
    "s2 = '[{()]'\n",
    "print(f'Is {s2} balanced ? {par_checker(s2)}')"
   ]
  },
  {
   "cell_type": "markdown",
   "metadata": {},
   "source": [
    "So, the two examples mentioned above show the importance of stacks and also that the new `Stack()` class that we created using `Node` works correctly."
   ]
  },
  {
   "cell_type": "code",
   "execution_count": null,
   "metadata": {},
   "outputs": [],
   "source": []
  }
 ],
 "metadata": {
  "kernelspec": {
   "display_name": "Python 3",
   "language": "python",
   "name": "python3"
  },
  "language_info": {
   "codemirror_mode": {
    "name": "ipython",
    "version": 3
   },
   "file_extension": ".py",
   "mimetype": "text/x-python",
   "name": "python",
   "nbconvert_exporter": "python",
   "pygments_lexer": "ipython3",
   "version": "3.7.1"
  }
 },
 "nbformat": 4,
 "nbformat_minor": 2
}
