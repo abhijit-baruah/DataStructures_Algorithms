{
 "cells": [
  {
   "cell_type": "markdown",
   "metadata": {},
   "source": [
    "# Workshop #3: Stacks\n",
    "## GitHUb: abhijit-baruah\n",
    "\n",
    "Implement the following for a Stack data structure:\n",
    "\n",
    "* `__len__`\n",
    "* `__bool__`\n",
    "* `__repr__`\n",
    "* `__str__`\n",
    "* `__contains__`"
   ]
  },
  {
   "cell_type": "code",
   "execution_count": 1,
   "metadata": {},
   "outputs": [],
   "source": [
    "class Stack:\n",
    "    def __init__(self):\n",
    "        self.items = []  # or, use 'list()'\n",
    "        \n",
    "    def is_empty(self):\n",
    "        return self.items == []\n",
    "    \n",
    "    def size(self):\n",
    "        return len(self.items)\n",
    "    \n",
    "    def peek(self):\n",
    "        # look at last item in our underlying list\n",
    "        if len(self.items): # This 'if' condition automatically executes for len(self.items) == 0 being False\n",
    "            return self.items[-1]\n",
    "        else:\n",
    "            return None\n",
    "        \n",
    "    def push(self, item):\n",
    "        self.items.append(item)\n",
    "\n",
    "    def pop(self):\n",
    "        return self.items.pop() # list already has inbuilt 'pop' which acts the same way as we would want for stacks.\n",
    "    \n",
    "    def __len__(self):\n",
    "        return len(self.items)\n",
    "        # or return self.size()\n",
    "    \n",
    "    def __bool__(self):\n",
    "        return self.items != []\n",
    "        # or return not self.is_empty() \n",
    "        \n",
    "    \n",
    "    def __repr__(self): # this should give the pythonic representation of what the object is and we should be able to create\n",
    "                        # this object again by copy-paste of the output and assigning to a new variable\n",
    "        return \"Stack()\"\n",
    "        \n",
    "    \n",
    "    def __str__(self):\n",
    "        v = \"Stacks({0})\".format(self.items)\n",
    "        return v\n",
    "    '''\n",
    "    or, to have a more customized representation of stack\n",
    "    \n",
    "    def __str__(self):\n",
    "        returnVal = \"<Stack:\"\n",
    "        for item in self.items:\n",
    "            returnVal += str(item) + \"; \"\n",
    "        returnVal += \">\"\n",
    "        return returnVal\n",
    "    \n",
    "    '''\n",
    "        \n",
    "        \n",
    "    def __contains__(self, item):\n",
    "        return item in self.items\n",
    "    \n",
    "    '''\n",
    "    or\n",
    "    def __contains__(self, item):\n",
    "        if item in self.items:\n",
    "            return True\n",
    "        else:\n",
    "            return False\n",
    "    '''\n",
    "        \n",
    "       \n",
    "    "
   ]
  },
  {
   "cell_type": "code",
   "execution_count": 2,
   "metadata": {},
   "outputs": [],
   "source": [
    "s = Stack()\n",
    "s.push(1)\n",
    "s.push(2)\n",
    "s.push(3)\n",
    "s.push(4)\n",
    "s.push(5)"
   ]
  },
  {
   "cell_type": "code",
   "execution_count": 3,
   "metadata": {},
   "outputs": [
    {
     "data": {
      "text/plain": [
       "Stack()"
      ]
     },
     "execution_count": 3,
     "metadata": {},
     "output_type": "execute_result"
    }
   ],
   "source": [
    "# check __repr__\n",
    "s"
   ]
  },
  {
   "cell_type": "code",
   "execution_count": 4,
   "metadata": {},
   "outputs": [
    {
     "name": "stdout",
     "output_type": "stream",
     "text": [
      "Stacks([1, 2, 3, 4, 5])\n"
     ]
    }
   ],
   "source": [
    "# check __str__\n",
    "print(s)"
   ]
  },
  {
   "cell_type": "code",
   "execution_count": 5,
   "metadata": {},
   "outputs": [
    {
     "data": {
      "text/plain": [
       "5"
      ]
     },
     "execution_count": 5,
     "metadata": {},
     "output_type": "execute_result"
    }
   ],
   "source": [
    "# check __len__\n",
    "len(s)"
   ]
  },
  {
   "cell_type": "code",
   "execution_count": 6,
   "metadata": {},
   "outputs": [
    {
     "data": {
      "text/plain": [
       "False"
      ]
     },
     "execution_count": 6,
     "metadata": {},
     "output_type": "execute_result"
    }
   ],
   "source": [
    "# check __contains__\n",
    "6 in s"
   ]
  },
  {
   "cell_type": "code",
   "execution_count": 7,
   "metadata": {},
   "outputs": [
    {
     "data": {
      "text/plain": [
       "True"
      ]
     },
     "execution_count": 7,
     "metadata": {},
     "output_type": "execute_result"
    }
   ],
   "source": [
    "# check __bool__\n",
    "bool(s)"
   ]
  }
 ],
 "metadata": {
  "kernelspec": {
   "display_name": "Python 3",
   "language": "python",
   "name": "python3"
  },
  "language_info": {
   "codemirror_mode": {
    "name": "ipython",
    "version": 3
   },
   "file_extension": ".py",
   "mimetype": "text/x-python",
   "name": "python",
   "nbconvert_exporter": "python",
   "pygments_lexer": "ipython3",
   "version": "3.7.1"
  }
 },
 "nbformat": 4,
 "nbformat_minor": 2
}
