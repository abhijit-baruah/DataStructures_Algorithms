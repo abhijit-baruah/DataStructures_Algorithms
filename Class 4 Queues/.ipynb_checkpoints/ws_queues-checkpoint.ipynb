{
 "cells": [
  {
   "cell_type": "markdown",
   "metadata": {},
   "source": [
    "## Workshop #4: Queues\n",
    "\n",
    "# GitHub: abhijit-baruah\n",
    "\n",
    "Implement the following for a Queue data structure:\n",
    "\n",
    "* `__len__`\n",
    "\n",
    "* `__bool__`\n",
    "\n",
    "* `__repr__` (“unambiguous representation of an object”)\n",
    "\n",
    "* `__str__`\n",
    "\n",
    "* `__contains__`"
   ]
  },
  {
   "cell_type": "code",
   "execution_count": 11,
   "metadata": {},
   "outputs": [],
   "source": [
    "class Queue:\n",
    "    def __init__(self):\n",
    "        self.items = []\n",
    "        \n",
    "    def is_empty(self):\n",
    "        return self.items == []\n",
    "    \n",
    "    def enqueue(self, item):\n",
    "        self.items.insert(0, item) # this insert is actually a O(n)\n",
    "        \n",
    "    def dequeue(self):\n",
    "        return self.items.pop()\n",
    "    \n",
    "    def size(self):\n",
    "        return len(self.items)\n",
    "    \n",
    "    def __len__(self):\n",
    "        return self.size() # using 'size' as defined above, or return len(self.items)\n",
    "    \n",
    "    def __bool__(self):\n",
    "        return not self.is_empty() # or return self.items != []\n",
    "    \n",
    "    def __repr__(self):\n",
    "        return \"Queue()\"\n",
    "    \n",
    "    def __str__(self):\n",
    "        q = \"<Queue: {0}>\".format(self.items)\n",
    "        return q\n",
    "    \n",
    "    def __contains__(self, item):\n",
    "        return item in self.items\n",
    "    \n",
    "    # Bonus peek\n",
    "    def peek_first(self):\n",
    "        if len(self.items): # This 'if' condition automatically executes for len(self.items) == 0 being False\n",
    "            return self.items[-1]\n",
    "        else:\n",
    "            return None\n",
    "    \n",
    "    def peek_recent(self):\n",
    "        return self.items[0]"
   ]
  },
  {
   "cell_type": "code",
   "execution_count": 12,
   "metadata": {},
   "outputs": [],
   "source": [
    "q = Queue()"
   ]
  },
  {
   "cell_type": "code",
   "execution_count": 13,
   "metadata": {},
   "outputs": [],
   "source": [
    "q.enqueue(1)\n",
    "q.enqueue(2)\n",
    "q.enqueue(3)\n",
    "q.enqueue(4)\n",
    "q.enqueue(5)"
   ]
  },
  {
   "cell_type": "code",
   "execution_count": 14,
   "metadata": {},
   "outputs": [
    {
     "data": {
      "text/plain": [
       "Queue()"
      ]
     },
     "execution_count": 14,
     "metadata": {},
     "output_type": "execute_result"
    }
   ],
   "source": [
    "# checking __repr__\n",
    "q"
   ]
  },
  {
   "cell_type": "code",
   "execution_count": 15,
   "metadata": {},
   "outputs": [
    {
     "name": "stdout",
     "output_type": "stream",
     "text": [
      "<Queue: [5, 4, 3, 2, 1]>\n"
     ]
    }
   ],
   "source": [
    "# checking __str__\n",
    "print(q)"
   ]
  },
  {
   "cell_type": "code",
   "execution_count": 16,
   "metadata": {},
   "outputs": [
    {
     "data": {
      "text/plain": [
       "5"
      ]
     },
     "execution_count": 16,
     "metadata": {},
     "output_type": "execute_result"
    }
   ],
   "source": [
    "# checking __len__\n",
    "len(q)"
   ]
  },
  {
   "cell_type": "code",
   "execution_count": 17,
   "metadata": {},
   "outputs": [
    {
     "data": {
      "text/plain": [
       "True"
      ]
     },
     "execution_count": 17,
     "metadata": {},
     "output_type": "execute_result"
    }
   ],
   "source": [
    "# checking __bool__\n",
    "bool(q)"
   ]
  },
  {
   "cell_type": "code",
   "execution_count": 18,
   "metadata": {},
   "outputs": [
    {
     "name": "stdout",
     "output_type": "stream",
     "text": [
      "False\n"
     ]
    }
   ],
   "source": [
    "q2 = Queue() # empty queue\n",
    "print(bool(q2))"
   ]
  },
  {
   "cell_type": "code",
   "execution_count": 19,
   "metadata": {},
   "outputs": [
    {
     "name": "stdout",
     "output_type": "stream",
     "text": [
      "Is 3 in q? True\n",
      "Is 7 in q? False\n"
     ]
    }
   ],
   "source": [
    "# checking __contains__\n",
    "print(f'Is 3 in q? {3 in q}')\n",
    "print(f'Is 7 in q? {7 in q}')"
   ]
  },
  {
   "cell_type": "code",
   "execution_count": 20,
   "metadata": {},
   "outputs": [
    {
     "name": "stdout",
     "output_type": "stream",
     "text": [
      "The last/most recent item in queue is: 5\n"
     ]
    }
   ],
   "source": [
    "print(f'The last/most recent item in queue is: {q.peek_recent()}')"
   ]
  },
  {
   "cell_type": "code",
   "execution_count": 21,
   "metadata": {},
   "outputs": [
    {
     "name": "stdout",
     "output_type": "stream",
     "text": [
      "The first item in queue is: 1\n"
     ]
    }
   ],
   "source": [
    "print(f'The first item in queue is: {q.peek_first()}')"
   ]
  },
  {
   "cell_type": "code",
   "execution_count": null,
   "metadata": {},
   "outputs": [],
   "source": []
  }
 ],
 "metadata": {
  "kernelspec": {
   "display_name": "Python 3",
   "language": "python",
   "name": "python3"
  },
  "language_info": {
   "codemirror_mode": {
    "name": "ipython",
    "version": 3
   },
   "file_extension": ".py",
   "mimetype": "text/x-python",
   "name": "python",
   "nbconvert_exporter": "python",
   "pygments_lexer": "ipython3",
   "version": "3.7.1"
  }
 },
 "nbformat": 4,
 "nbformat_minor": 2
}
