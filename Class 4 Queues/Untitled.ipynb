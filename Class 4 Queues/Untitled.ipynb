{
 "cells": [
  {
   "cell_type": "code",
   "execution_count": 1,
   "metadata": {},
   "outputs": [],
   "source": [
    "class Node:\n",
    "    def __init__(self, data):\n",
    "       self.data = data\n",
    "       self.next = None\n",
    " \n"
   ]
  },
  {
   "cell_type": "code",
   "execution_count": 11,
   "metadata": {},
   "outputs": [],
   "source": [
    "class Queue:\n",
    "    def __init__(self):\n",
    "        self.head = None\n",
    "        self.last = None\n",
    " \n",
    "    def enqueue(self, data):\n",
    "        if self.last is None:\n",
    "            self.head = Node(data)\n",
    "            self.last = self.head\n",
    "        else:\n",
    "            self.last.next = Node(data)\n",
    "            self.last = self.last.next\n",
    " \n",
    "    def dequeue(self):\n",
    "        if self.head is None:\n",
    "            return None\n",
    "        else:\n",
    "            to_return = self.head.data\n",
    "            self.head = self.head.next\n",
    "            return to_return\n",
    "        \n",
    "    def __str__(self):\n",
    "        if self.head != None:\n",
    "            current = self.head\n",
    "            v = \"[ Queue: \" + str(current.data)\n",
    "            current = current.next\n",
    "            while current != None:\n",
    "                v += ' <-- ' + str(current.data)\n",
    "                current = current.next\n",
    "            v += \" ]\"\n",
    "            return v\n",
    "        else:\n",
    "            return \"[Queue is empty]\""
   ]
  },
  {
   "cell_type": "code",
   "execution_count": 12,
   "metadata": {},
   "outputs": [],
   "source": [
    "q = Queue() \n",
    "q.enqueue(1) \n",
    "q.enqueue(2) \n",
    "q.enqueue(3) \n",
    "q.enqueue(4) \n",
    "q.enqueue(5) \n",
    "q.enqueue(6) \n",
    "q.enqueue(7)  "
   ]
  },
  {
   "cell_type": "code",
   "execution_count": 13,
   "metadata": {},
   "outputs": [
    {
     "name": "stdout",
     "output_type": "stream",
     "text": [
      "[ Queue: 1 <-- 2 <-- 3 <-- 4 <-- 5 <-- 6 <-- 7 ]\n"
     ]
    }
   ],
   "source": [
    "print(q)"
   ]
  },
  {
   "cell_type": "code",
   "execution_count": 14,
   "metadata": {},
   "outputs": [
    {
     "data": {
      "text/plain": [
       "1"
      ]
     },
     "execution_count": 14,
     "metadata": {},
     "output_type": "execute_result"
    }
   ],
   "source": [
    "q.dequeue()"
   ]
  },
  {
   "cell_type": "code",
   "execution_count": 15,
   "metadata": {},
   "outputs": [
    {
     "name": "stdout",
     "output_type": "stream",
     "text": [
      "[ Queue: 2 <-- 3 <-- 4 <-- 5 <-- 6 <-- 7 ]\n"
     ]
    }
   ],
   "source": [
    "print(q)"
   ]
  },
  {
   "cell_type": "code",
   "execution_count": 16,
   "metadata": {},
   "outputs": [
    {
     "data": {
      "text/plain": [
       "2"
      ]
     },
     "execution_count": 16,
     "metadata": {},
     "output_type": "execute_result"
    }
   ],
   "source": [
    "q.head.data"
   ]
  },
  {
   "cell_type": "code",
   "execution_count": 17,
   "metadata": {},
   "outputs": [
    {
     "data": {
      "text/plain": [
       "7"
      ]
     },
     "execution_count": 17,
     "metadata": {},
     "output_type": "execute_result"
    }
   ],
   "source": [
    "q.last.data"
   ]
  },
  {
   "cell_type": "code",
   "execution_count": null,
   "metadata": {},
   "outputs": [],
   "source": []
  }
 ],
 "metadata": {
  "kernelspec": {
   "display_name": "Python 3",
   "language": "python",
   "name": "python3"
  },
  "language_info": {
   "codemirror_mode": {
    "name": "ipython",
    "version": 3
   },
   "file_extension": ".py",
   "mimetype": "text/x-python",
   "name": "python",
   "nbconvert_exporter": "python",
   "pygments_lexer": "ipython3",
   "version": "3.7.1"
  }
 },
 "nbformat": 4,
 "nbformat_minor": 2
}
