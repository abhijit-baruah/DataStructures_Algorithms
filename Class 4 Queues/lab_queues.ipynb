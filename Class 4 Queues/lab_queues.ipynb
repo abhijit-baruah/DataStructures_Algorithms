{
 "cells": [
  {
   "cell_type": "markdown",
   "metadata": {
    "button": false,
    "new_sheet": false,
    "run_control": {
     "read_only": false
    }
   },
   "source": [
    "# Lab 4: Queues"
   ]
  },
  {
   "cell_type": "markdown",
   "metadata": {
    "button": false,
    "new_sheet": false,
    "run_control": {
     "read_only": false
    }
   },
   "source": [
    "## <font color=DarkRed>Your Exercise: Implement a queue using linked lists.</font>\n",
    "\n",
    "Our in-class implementation of the `Queue` class uses the Python `list` data type as the underlying data structure. Instead, replace the use of the Python `list` data type with write your own `Node` class, which we used to build a singly linked-list."
   ]
  },
  {
   "cell_type": "markdown",
   "metadata": {
    "button": false,
    "new_sheet": false,
    "run_control": {
     "read_only": false
    }
   },
   "source": [
    "## <font color=green>Your Solution</font>\n",
    "\n",
    "*Use a variety of code, Markdown (text) cells below to create your solution. Nice outputs would be timing results, and even plots. You will be graded not only on correctness, but the clarity of your code, descriptive text and other output. Keep it succinct.*"
   ]
  },
  {
   "cell_type": "code",
   "execution_count": 1,
   "metadata": {
    "button": false,
    "new_sheet": false,
    "run_control": {
     "read_only": false
    }
   },
   "outputs": [],
   "source": [
    "class Node: \n",
    "      \n",
    "    def __init__(self, data): \n",
    "        self.data = data \n",
    "        self.next = None"
   ]
  },
  {
   "cell_type": "code",
   "execution_count": 43,
   "metadata": {},
   "outputs": [],
   "source": [
    "class Queue: \n",
    "      \n",
    "    def __init__(self): \n",
    "        self.head = None\n",
    "        self.rear = None\n",
    "  \n",
    "    def is_empty(self): \n",
    "        return self.head == None\n",
    "      \n",
    "    # Method to add an item to the rear of the queue \n",
    "    def enqueue(self, data): \n",
    "        if self.rear == None:\n",
    "            self.head = Node(data)\n",
    "            self.rear = self.head\n",
    "        else:\n",
    "            self.rear.next = Node(data)\n",
    "            self.rear = self.rear.next\n",
    "            \n",
    "  \n",
    "    # Method to remove first item from queue \n",
    "    def dequeue(self): \n",
    "          \n",
    "        if self.head == None:\n",
    "            return None\n",
    "        else:\n",
    "            pop = self.head.data\n",
    "            self.head = self.head.next\n",
    "            return pop\n",
    "            \n",
    "    # defining a less conventional print displpay structure\n",
    "    def __str__(self):\n",
    "        if self.head != None:\n",
    "            current = self.head\n",
    "            v = \"[ Queue: \" + str(current.data)\n",
    "            current = current.next\n",
    "            while current != None:\n",
    "                v += ' <-- ' + str(current.data)\n",
    "                current = current.next\n",
    "            v += \" ]\"\n",
    "            return v\n",
    "        else:\n",
    "            return \"[Queue is empty]\"\n",
    "    \n",
    "    # returns size of the queue\n",
    "    def size(self):\n",
    "        current = self.head\n",
    "        count = 0\n",
    "        while current != None:\n",
    "            count += 1\n",
    "            current = current.next\n",
    "        return count\n",
    "    \n",
    "    def __len__(self):\n",
    "        return self.size() # using 'size' as defined above, or return len(self.items)\n",
    "    \n",
    "    def __bool__(self):\n",
    "        return not self.is_empty() # or return self.items != []\n",
    "    \n",
    "    def __repr__(self):\n",
    "        return \"Queue()\"\n",
    "    \n",
    "    def __contains__(self, data):\n",
    "        current = self.head\n",
    "        found = False\n",
    "        while current != None and not found:\n",
    "            if current.data == data:\n",
    "                found = True\n",
    "            else:\n",
    "                current = current.next\n",
    "        return found"
   ]
  },
  {
   "cell_type": "code",
   "execution_count": 44,
   "metadata": {},
   "outputs": [],
   "source": [
    "q = Queue() \n",
    "q.enqueue(1) \n",
    "q.enqueue(2) \n",
    "q.enqueue(3) \n",
    "q.enqueue(4) \n",
    "q.enqueue(5) \n",
    "q.enqueue(6) \n",
    "q.enqueue(7)  "
   ]
  },
  {
   "cell_type": "code",
   "execution_count": 53,
   "metadata": {},
   "outputs": [
    {
     "data": {
      "text/plain": [
       "Queue()"
      ]
     },
     "execution_count": 53,
     "metadata": {},
     "output_type": "execute_result"
    }
   ],
   "source": [
    "q"
   ]
  },
  {
   "cell_type": "code",
   "execution_count": 55,
   "metadata": {},
   "outputs": [
    {
     "data": {
      "text/plain": [
       "False"
      ]
     },
     "execution_count": 55,
     "metadata": {},
     "output_type": "execute_result"
    }
   ],
   "source": [
    "q.is_empty()"
   ]
  },
  {
   "cell_type": "code",
   "execution_count": 56,
   "metadata": {},
   "outputs": [
    {
     "name": "stdout",
     "output_type": "stream",
     "text": [
      "True\n"
     ]
    }
   ],
   "source": [
    "q_empty = Queue()\n",
    "print(q_empty.is_empty())"
   ]
  },
  {
   "cell_type": "code",
   "execution_count": 45,
   "metadata": {
    "button": false,
    "new_sheet": false,
    "run_control": {
     "read_only": false
    }
   },
   "outputs": [
    {
     "name": "stdout",
     "output_type": "stream",
     "text": [
      "[ Queue: 1 <-- 2 <-- 3 <-- 4 <-- 5 <-- 6 <-- 7 ]\n",
      "Queue Head 1\n",
      "Queue Rear 7\n"
     ]
    }
   ],
   "source": [
    "print(q)\n",
    "print(\"Queue Head \" + str(q.head.data)) \n",
    "print(\"Queue Rear \" + str(q.rear.data))"
   ]
  },
  {
   "cell_type": "code",
   "execution_count": 47,
   "metadata": {
    "scrolled": true
   },
   "outputs": [
    {
     "name": "stdout",
     "output_type": "stream",
     "text": [
      "The size of the queue is: 5\n"
     ]
    }
   ],
   "source": [
    "print(f'The size of the queue is: {q.size()}')"
   ]
  },
  {
   "cell_type": "code",
   "execution_count": 46,
   "metadata": {},
   "outputs": [
    {
     "name": "stdout",
     "output_type": "stream",
     "text": [
      "[ Queue: 3 <-- 4 <-- 5 <-- 6 <-- 7 ]\n",
      "New Queue Head after twice dequeue: 3\n",
      "New Queue Rear after twice dequeue: 7\n"
     ]
    }
   ],
   "source": [
    "q.dequeue()\n",
    "q.dequeue()\n",
    "print(q)\n",
    "print(\"New Queue Head after twice dequeue: \" + str(q.head.data)) \n",
    "print(\"New Queue Rear after twice dequeue: \" + str(q.rear.data))"
   ]
  },
  {
   "cell_type": "code",
   "execution_count": null,
   "metadata": {},
   "outputs": [],
   "source": [
    "print(f'The size of the queue is: {len(q)}') #check __len__"
   ]
  },
  {
   "cell_type": "code",
   "execution_count": 48,
   "metadata": {},
   "outputs": [
    {
     "name": "stdout",
     "output_type": "stream",
     "text": [
      "Is 4 in the queue? True\n",
      "Is 1 still in the queue? False\n",
      "Is 9 in the queue? False\n"
     ]
    }
   ],
   "source": [
    "# check __contains__\n",
    "print(f'Is 4 in the queue? {4 in q}')\n",
    "print(f'Is 1 still in the queue? {1 in q}')\n",
    "print(f'Is 9 in the queue? {9 in q}')"
   ]
  },
  {
   "cell_type": "code",
   "execution_count": 54,
   "metadata": {},
   "outputs": [
    {
     "data": {
      "text/plain": [
       "True"
      ]
     },
     "execution_count": 54,
     "metadata": {},
     "output_type": "execute_result"
    }
   ],
   "source": [
    "bool(q) # check __bool__"
   ]
  },
  {
   "cell_type": "markdown",
   "metadata": {
    "button": false,
    "new_sheet": false,
    "run_control": {
     "read_only": false
    }
   },
   "source": [
    "## Testing\n",
    "### Hot Potato Simulation\n",
    "When finished, test your updated `Queue` class by running the **hot potato simulation** from the textbook."
   ]
  },
  {
   "cell_type": "code",
   "execution_count": 49,
   "metadata": {},
   "outputs": [],
   "source": [
    "from random import randrange"
   ]
  },
  {
   "cell_type": "code",
   "execution_count": 50,
   "metadata": {},
   "outputs": [],
   "source": [
    "def hot_potato(namelist):\n",
    "    simqueue = Queue()\n",
    "    \n",
    "    for name in namelist:\n",
    "        simqueue.enqueue(name)\n",
    "        \n",
    "    while simqueue.size() > 1:\n",
    "        num = randrange(1, 13)  # randomly \"stopping the music\"\n",
    "        for i in range(num):\n",
    "            simqueue.enqueue(simqueue.dequeue())\n",
    "            \n",
    "        simqueue.dequeue()\n",
    "        \n",
    "    return simqueue.dequeue()"
   ]
  },
  {
   "cell_type": "code",
   "execution_count": 51,
   "metadata": {},
   "outputs": [
    {
     "data": {
      "text/plain": [
       "'David'"
      ]
     },
     "execution_count": 51,
     "metadata": {},
     "output_type": "execute_result"
    }
   ],
   "source": [
    "players = [\"David\", \"Susan\", \"Jane\", \"Kent\", \"Brad\", \"Bill\"]\n",
    "\n",
    "hot_potato(players)"
   ]
  },
  {
   "cell_type": "code",
   "execution_count": 52,
   "metadata": {},
   "outputs": [
    {
     "data": {
      "text/plain": [
       "'Jane'"
      ]
     },
     "execution_count": 52,
     "metadata": {},
     "output_type": "execute_result"
    }
   ],
   "source": [
    "players = [\"David\", \"Susan\", \"Jane\", \"Kent\", \"Brad\", \"Bill\"]\n",
    "\n",
    "hot_potato(players)"
   ]
  },
  {
   "cell_type": "markdown",
   "metadata": {},
   "source": [
    "Thus, the two games of **Hot Potato** show that out new `Queue()` class, that was defined using `Node`, works correctly."
   ]
  },
  {
   "cell_type": "code",
   "execution_count": null,
   "metadata": {},
   "outputs": [],
   "source": []
  }
 ],
 "metadata": {
  "kernelspec": {
   "display_name": "Python 3",
   "language": "python",
   "name": "python3"
  },
  "language_info": {
   "codemirror_mode": {
    "name": "ipython",
    "version": 3
   },
   "file_extension": ".py",
   "mimetype": "text/x-python",
   "name": "python",
   "nbconvert_exporter": "python",
   "pygments_lexer": "ipython3",
   "version": "3.7.1"
  }
 },
 "nbformat": 4,
 "nbformat_minor": 2
}
