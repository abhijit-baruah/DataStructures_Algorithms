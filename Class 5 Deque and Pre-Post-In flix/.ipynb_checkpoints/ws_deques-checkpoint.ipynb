{
 "cells": [
  {
   "cell_type": "markdown",
   "metadata": {},
   "source": [
    "## Workshop #5: Deques\n",
    "# GitHub: abhijit-baruah\n",
    "Implement the following for a Deque data structure:\n",
    "\n",
    "* `__len__`\n",
    "\n",
    "* `__bool__`\n",
    "\n",
    "* `__repr__ `(“unambiguous representation of an object”)\n",
    "\n",
    "* `__str__`\n",
    "\n",
    "* `__contains__`"
   ]
  },
  {
   "cell_type": "code",
   "execution_count": 7,
   "metadata": {},
   "outputs": [],
   "source": [
    "class Deque:\n",
    "    \n",
    "    def __init__(self):\n",
    "        self.items = []\n",
    "        \n",
    "    def is_empty(self):\n",
    "        return self.items == []\n",
    "    \n",
    "    def add_front(self, item):\n",
    "        self.items.append(item)\n",
    "        \n",
    "    def add_rear(self, item):\n",
    "        self.items.insert(0, item)\n",
    "        \n",
    "    def remove_front(self):\n",
    "        return self.items.pop()\n",
    "    \n",
    "    def remove_rear(self):\n",
    "        return self.items.pop(0)\n",
    "    \n",
    "    def size(self):\n",
    "        return len(self.items)\n",
    "    \n",
    "    def __len__(self):\n",
    "        return self.size()\n",
    "    \n",
    "    def __bool__(self):\n",
    "        return not self.is_empty() # or return self.items != []\n",
    "    \n",
    "    def __repr__(self):\n",
    "        return \"Deque()\"\n",
    "    \n",
    "    def __str__(self):\n",
    "        q = \"<Deque: {0}>\".format(self.items)\n",
    "        return q\n",
    "    \n",
    "    def __contains__(self, item):\n",
    "        return item in self.items\n",
    "        "
   ]
  },
  {
   "cell_type": "code",
   "execution_count": 8,
   "metadata": {},
   "outputs": [],
   "source": [
    "d = Deque()"
   ]
  },
  {
   "cell_type": "code",
   "execution_count": 9,
   "metadata": {},
   "outputs": [
    {
     "name": "stdout",
     "output_type": "stream",
     "text": [
      "<Deque: [2, 1]>\n"
     ]
    }
   ],
   "source": [
    "# Check addition of item in front of Deque\n",
    "d.add_front(2)\n",
    "d.add_front(1)\n",
    "print(d) # also checks __str__"
   ]
  },
  {
   "cell_type": "code",
   "execution_count": 10,
   "metadata": {},
   "outputs": [
    {
     "name": "stdout",
     "output_type": "stream",
     "text": [
      "<Deque: [5, 4, 3, 2, 1]>\n"
     ]
    }
   ],
   "source": [
    "# Check addition of items to the rear of the Deque\n",
    "d.add_rear(3)\n",
    "d.add_rear(4)\n",
    "d.add_rear(5)\n",
    "print(d)"
   ]
  },
  {
   "cell_type": "code",
   "execution_count": 11,
   "metadata": {},
   "outputs": [
    {
     "data": {
      "text/plain": [
       "Deque()"
      ]
     },
     "execution_count": 11,
     "metadata": {},
     "output_type": "execute_result"
    }
   ],
   "source": [
    "#check _repr_\n",
    "d"
   ]
  },
  {
   "cell_type": "code",
   "execution_count": 12,
   "metadata": {},
   "outputs": [
    {
     "data": {
      "text/plain": [
       "5"
      ]
     },
     "execution_count": 12,
     "metadata": {},
     "output_type": "execute_result"
    }
   ],
   "source": [
    "#check _len_\n",
    "len(d)"
   ]
  },
  {
   "cell_type": "code",
   "execution_count": 14,
   "metadata": {},
   "outputs": [
    {
     "name": "stdout",
     "output_type": "stream",
     "text": [
      "False\n",
      "bool of Deque:d is True\n"
     ]
    }
   ],
   "source": [
    "# check bool\n",
    "d_empty = Deque()\n",
    "print(bool(d_empty))\n",
    "print(f'bool of Deque:d is {bool(d)}')"
   ]
  },
  {
   "cell_type": "code",
   "execution_count": 15,
   "metadata": {},
   "outputs": [
    {
     "name": "stdout",
     "output_type": "stream",
     "text": [
      "Is 6 in Deque:D? False\n"
     ]
    }
   ],
   "source": [
    "# check __contains__\n",
    "print(f'Is 6 in Deque:D? {6 in d}')"
   ]
  },
  {
   "cell_type": "code",
   "execution_count": 17,
   "metadata": {},
   "outputs": [
    {
     "name": "stdout",
     "output_type": "stream",
     "text": [
      "The deque after removing an item each from front and rear is: <Deque: [4, 3, 2]>\n"
     ]
    }
   ],
   "source": [
    "# finally check remove\n",
    "d.remove_front()\n",
    "d.remove_rear()\n",
    "print(f'The deque after removing an item each from front and rear is: {d}')"
   ]
  },
  {
   "cell_type": "code",
   "execution_count": null,
   "metadata": {},
   "outputs": [],
   "source": []
  }
 ],
 "metadata": {
  "kernelspec": {
   "display_name": "Python 3",
   "language": "python",
   "name": "python3"
  },
  "language_info": {
   "codemirror_mode": {
    "name": "ipython",
    "version": 3
   },
   "file_extension": ".py",
   "mimetype": "text/x-python",
   "name": "python",
   "nbconvert_exporter": "python",
   "pygments_lexer": "ipython3",
   "version": "3.7.1"
  }
 },
 "nbformat": 4,
 "nbformat_minor": 2
}
