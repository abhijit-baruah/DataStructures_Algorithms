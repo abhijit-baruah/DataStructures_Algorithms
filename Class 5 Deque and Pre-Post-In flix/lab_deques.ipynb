{
 "cells": [
  {
   "cell_type": "markdown",
   "metadata": {
    "button": false,
    "new_sheet": false,
    "run_control": {
     "read_only": false
    }
   },
   "source": [
    "# Lab 5: Deques"
   ]
  },
  {
   "cell_type": "markdown",
   "metadata": {
    "button": false,
    "new_sheet": false,
    "run_control": {
     "read_only": false
    }
   },
   "source": [
    "## <font color=DarkRed>Your Exercise: Implement a deques using linked lists.</font>\n",
    "\n",
    "Our in-class implementation of the `Deque` class uses the Python `list` data type as the underlying data structure. Instead, replace the use of the Python `list` data type with write your own `Node` class, which we used to build a singly linked-list."
   ]
  },
  {
   "cell_type": "markdown",
   "metadata": {
    "button": false,
    "new_sheet": false,
    "run_control": {
     "read_only": false
    }
   },
   "source": [
    "## <font color=green>Your Solution</font>\n",
    "\n",
    "*Use a variety of code, Markdown (text) cells below to create your solution. Nice outputs would be timing results, and even plots. You will be graded not only on correctness, but the clarity of your code, descriptive text and other output. Keep it succinct.*"
   ]
  },
  {
   "cell_type": "code",
   "execution_count": 1,
   "metadata": {
    "button": false,
    "new_sheet": false,
    "run_control": {
     "read_only": false
    }
   },
   "outputs": [],
   "source": [
    "class Node: \n",
    "      \n",
    "    def __init__(self, data): \n",
    "        self.data = data \n",
    "        self.next = None\n",
    "        self.previous = None\n",
    "        \n",
    "    "
   ]
  },
  {
   "cell_type": "code",
   "execution_count": 2,
   "metadata": {},
   "outputs": [],
   "source": [
    "class Deque:\n",
    "    \n",
    "    def __init__(self):\n",
    "        self.head = None\n",
    "        self.rear = None\n",
    "        self.old = None\n",
    "    \n",
    "    def is_empty(self): \n",
    "        return self.head == None\n",
    "    \n",
    "    def add_front(self, data):\n",
    "        if self.head == None:\n",
    "            self.head = self.rear = Node(data)\n",
    "        else:\n",
    "            # create a new_node and set the item into its data field\n",
    "            old_node = self.head\n",
    "            old_node.previous = self.old\n",
    "            self.old = old_node\n",
    "            #print(self.old.data)\n",
    "            new_node = Node(data)\n",
    "            new_node.next = self.head \n",
    "            self.head = new_node\n",
    "    \n",
    "    def add_rear(self, data):\n",
    "        if self.head == None:\n",
    "            self.rear = self.head = Node(data)\n",
    "        else:\n",
    "            old_node = self.rear\n",
    "            old_node.previous = self.old\n",
    "            self.old = old_node\n",
    "            #print(self.old.data)\n",
    "            self.rear.next = Node(data)\n",
    "            self.rear = self.rear.next\n",
    "    \n",
    "    def remove_front(self):\n",
    "        if self.head == None:\n",
    "            return None\n",
    "        else:\n",
    "            pop = self.head.data\n",
    "            self.head = self.head.next\n",
    "            return pop\n",
    "        \n",
    "    def remove_rear(self):\n",
    "        if self.rear == None:\n",
    "            return None\n",
    "        else:\n",
    "            pop_node = self.rear\n",
    "            self.rear = self.old   \n",
    "            self.old = self.old.previous\n",
    "            self.delete_node(self.size()-1)\n",
    "            return pop_node.data\n",
    "        \n",
    "    def delete_node(self, position):  \n",
    "        # If linked list is empty \n",
    "        if self.head == None: \n",
    "            return\n",
    "        # Store head node \n",
    "        temp = self.head\n",
    "        # If head needs to be removed \n",
    "        if position == 0: \n",
    "            self.head = temp.next\n",
    "            temp = None\n",
    "            return \n",
    "        # Find previous node of the node to be deleted \n",
    "        for i in range(position -1): \n",
    "            temp = temp.next\n",
    "            if temp is None: \n",
    "                break\n",
    "        # If position is more than number of nodes \n",
    "        if temp is None: \n",
    "            return \n",
    "        if temp.next is None: \n",
    "            return \n",
    "  \n",
    "        # Node temp.next is the node to be deleted \n",
    "        # store pointer to the next of node to be deleted \n",
    "        next = temp.next.next\n",
    "  \n",
    "        # Unlink the node from linked list \n",
    "        temp.next = None\n",
    "        temp.next = next \n",
    "    \n",
    "            \n",
    "    def size(self):\n",
    "        current = self.head\n",
    "        count = 0\n",
    "        while current != None:\n",
    "            count += 1\n",
    "            current = current.next\n",
    "        return count   \n",
    "               \n",
    "    def __str__(self):\n",
    "        if self.head != None:\n",
    "            current = self.head\n",
    "            v = \"[ Deque: \" + str(current.data)\n",
    "            current = current.next\n",
    "            while current != None:\n",
    "                v += ' <-- ' + str(current.data)\n",
    "                current = current.next\n",
    "            v += \" ]\"\n",
    "            return v\n",
    "        else:\n",
    "            return \"[Deque is empty]\""
   ]
  },
  {
   "cell_type": "code",
   "execution_count": 3,
   "metadata": {},
   "outputs": [
    {
     "name": "stdout",
     "output_type": "stream",
     "text": [
      "[ Deque: 0 <-- 1 <-- 2 ]\n"
     ]
    }
   ],
   "source": [
    "d = Deque()\n",
    "d.add_front(2)\n",
    "d.add_front(1)\n",
    "d.add_front(0)\n",
    "print(d) # also checks __str__"
   ]
  },
  {
   "cell_type": "code",
   "execution_count": 4,
   "metadata": {},
   "outputs": [
    {
     "name": "stdout",
     "output_type": "stream",
     "text": [
      "[ Deque: 0 <-- 1 <-- 2 <-- 3 <-- 4 <-- 5 ]\n"
     ]
    }
   ],
   "source": [
    "d.add_rear(3)\n",
    "d.add_rear(4)\n",
    "d.add_rear(5)\n",
    "print(d)"
   ]
  },
  {
   "cell_type": "code",
   "execution_count": 5,
   "metadata": {},
   "outputs": [
    {
     "name": "stdout",
     "output_type": "stream",
     "text": [
      "Deque Head 0\n",
      "Deque Rear 5\n"
     ]
    }
   ],
   "source": [
    "print(\"Deque Head \" + str(d.head.data)) \n",
    "print(\"Deque Rear \" + str(d.rear.data))"
   ]
  },
  {
   "cell_type": "code",
   "execution_count": 6,
   "metadata": {},
   "outputs": [
    {
     "name": "stdout",
     "output_type": "stream",
     "text": [
      "The deque after removing two items from front is: [ Deque: 2 <-- 3 <-- 4 <-- 5 ]\n",
      "Deque Head 2\n",
      "Deque Rear 5\n"
     ]
    }
   ],
   "source": [
    "d.remove_front()\n",
    "d.remove_front()\n",
    "print(f'The deque after removing two items from front is: {d}')\n",
    "print(\"Deque Head \" + str(d.head.data)) \n",
    "print(\"Deque Rear \" + str(d.rear.data))"
   ]
  },
  {
   "cell_type": "code",
   "execution_count": 7,
   "metadata": {},
   "outputs": [
    {
     "name": "stdout",
     "output_type": "stream",
     "text": [
      "The deque after removing two items from rear is: [ Deque: 2 <-- 3 ]\n",
      "Deque Head 2\n",
      "Deque Rear 3\n"
     ]
    }
   ],
   "source": [
    "d.remove_rear()\n",
    "d.remove_rear()\n",
    "print(f'The deque after removing two items from rear is: {d}')\n",
    "print(\"Deque Head \" + str(d.head.data)) \n",
    "print(\"Deque Rear \" + str(d.rear.data))"
   ]
  },
  {
   "cell_type": "markdown",
   "metadata": {
    "button": false,
    "new_sheet": false,
    "run_control": {
     "read_only": false
    }
   },
   "source": [
    "## Testing\n",
    "### Palindrome Checker\n",
    "\n",
    "When finished, test your updated `Queue` class by running the **palindrome checker** from the textbook."
   ]
  },
  {
   "cell_type": "code",
   "execution_count": 8,
   "metadata": {
    "button": false,
    "new_sheet": false,
    "run_control": {
     "read_only": false
    }
   },
   "outputs": [],
   "source": [
    "import string"
   ]
  },
  {
   "cell_type": "code",
   "execution_count": 9,
   "metadata": {},
   "outputs": [],
   "source": [
    "def pal_checker(a_str):\n",
    "    char_deque = Deque()\n",
    "    \n",
    "    a_str = a_str.lower()\n",
    "    \n",
    "    for ch in a_str:\n",
    "        if ch in string.ascii_lowercase:\n",
    "            char_deque.add_rear(ch)\n",
    "        \n",
    "    still_equal = True\n",
    "    \n",
    "    while char_deque.size() > 1 and still_equal:\n",
    "        first = char_deque.remove_front()\n",
    "        last = char_deque.remove_rear()\n",
    "        if first != last:\n",
    "            still_equal = False\n",
    "            \n",
    "    return still_equal"
   ]
  },
  {
   "cell_type": "code",
   "execution_count": 10,
   "metadata": {},
   "outputs": [
    {
     "data": {
      "text/plain": [
       "False"
      ]
     },
     "execution_count": 10,
     "metadata": {},
     "output_type": "execute_result"
    }
   ],
   "source": [
    "pal_checker(\"kfhgsdkjfhksdjf\")"
   ]
  },
  {
   "cell_type": "code",
   "execution_count": 11,
   "metadata": {},
   "outputs": [
    {
     "data": {
      "text/plain": [
       "True"
      ]
     },
     "execution_count": 11,
     "metadata": {},
     "output_type": "execute_result"
    }
   ],
   "source": [
    "pal_checker(\"radar\")"
   ]
  },
  {
   "cell_type": "code",
   "execution_count": 12,
   "metadata": {},
   "outputs": [
    {
     "data": {
      "text/plain": [
       "True"
      ]
     },
     "execution_count": 12,
     "metadata": {},
     "output_type": "execute_result"
    }
   ],
   "source": [
    "pal_checker(\"Mr. Owl ate my metal worm\")"
   ]
  },
  {
   "cell_type": "code",
   "execution_count": null,
   "metadata": {},
   "outputs": [],
   "source": []
  }
 ],
 "metadata": {
  "kernelspec": {
   "display_name": "Python 3",
   "language": "python",
   "name": "python3"
  },
  "language_info": {
   "codemirror_mode": {
    "name": "ipython",
    "version": 3
   },
   "file_extension": ".py",
   "mimetype": "text/x-python",
   "name": "python",
   "nbconvert_exporter": "python",
   "pygments_lexer": "ipython3",
   "version": "3.7.1"
  }
 },
 "nbformat": 4,
 "nbformat_minor": 2
}
