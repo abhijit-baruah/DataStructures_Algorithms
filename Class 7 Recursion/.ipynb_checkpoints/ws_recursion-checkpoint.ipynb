{
 "cells": [
  {
   "cell_type": "markdown",
   "metadata": {},
   "source": [
    "## Workshop #7: Recursion\n",
    "\n",
    "# GitHub: abhijit-baruah\n",
    "# Group: Jen Rowe, Charlotte Ding and Abhijit Baruah\n",
    "\n",
    "Take this recursive function:\n",
    "\n",
    "`\n",
    "1 def fun(n):\n",
    "2    if n == 0:\n",
    "3       return []\n",
    "4\n",
    "5    return fun(n//2) + [n%2]\n",
    "6\n",
    "7 fun(25)\n",
    "`"
   ]
  },
  {
   "cell_type": "markdown",
   "metadata": {},
   "source": [
    "## Ans #a:\n",
    "Line number for the base case is 2\n",
    "\n",
    "## Ans #b:\n",
    "The line number, and specific recursive call in fun(n) are: 5 and `fun(n//2)` respectively.\n"
   ]
  },
  {
   "cell_type": "markdown",
   "metadata": {},
   "source": [
    "## Ans #c:\n",
    "RecursionLevel    n    fun(n)   is n==0?   n//2   n%2 \n",
    "\n",
    "     0            25   fun(25)    FALSE     12     1\n",
    "     1            12   fun(12)    FALSE      6     0\n",
    "     2            6    fun(6)     FALSE      3     0\n",
    "     3            3    fun(3)     FALSE      1     1\n",
    "     4            1    fun(1)     FALSE      0     1\n",
    "     5            0    fun(0)     TRUE\n",
    "     \n",
    "     "
   ]
  },
  {
   "cell_type": "markdown",
   "metadata": {},
   "source": [
    "## Ans #d\n",
    "Final return code is: [1 1 0 0 1]"
   ]
  }
 ],
 "metadata": {
  "kernelspec": {
   "display_name": "Python 3",
   "language": "python",
   "name": "python3"
  },
  "language_info": {
   "codemirror_mode": {
    "name": "ipython",
    "version": 3
   },
   "file_extension": ".py",
   "mimetype": "text/x-python",
   "name": "python",
   "nbconvert_exporter": "python",
   "pygments_lexer": "ipython3",
   "version": "3.7.1"
  }
 },
 "nbformat": 4,
 "nbformat_minor": 4
}
