{
 "cells": [
  {
   "cell_type": "markdown",
   "metadata": {
    "button": false,
    "new_sheet": false,
    "run_control": {
     "read_only": false
    }
   },
   "source": [
    "# Lab 2: Runtime Analysis"
   ]
  },
  {
   "cell_type": "markdown",
   "metadata": {
    "button": false,
    "new_sheet": false,
    "run_control": {
     "read_only": false
    }
   },
   "source": [
    "## <font color=DarkRed>Your Exercise: Performance of `del` keyword</font>\n",
    "\n",
    "Devise an experiment that compares the performance of the `del` operator on lists and dictionaries."
   ]
  },
  {
   "cell_type": "markdown",
   "metadata": {
    "button": false,
    "new_sheet": false,
    "run_control": {
     "read_only": false
    }
   },
   "source": [
    "### Helpful Code"
   ]
  },
  {
   "cell_type": "code",
   "execution_count": null,
   "metadata": {
    "button": false,
    "new_sheet": false,
    "run_control": {
     "read_only": false
    }
   },
   "outputs": [],
   "source": [
    "# Make two lists of random 'data'\n",
    "import random \n",
    "arry1 = [random.random() for i in range(5000)]\n",
    "arry2 = [random.random() for i in range(5000)]\n",
    "\n",
    "# Create a simple dictionary of key:val pairs using these two lists\n",
    "d1 = dict(zip(arry1,arry2)) \n",
    "\n",
    "# How the deletion of a dictionary key works\n",
    "#print(d1)\n",
    "d_keys = list(d1.keys()) \n",
    "del d1[d_keys[0]]\n",
    "#print(d1)\n",
    "\n",
    "# Print an empty line for spacing\n",
    "print()\n",
    "\n",
    "# How the deletion of a dictionary key works\n",
    "#print(arry1)\n",
    "del arry1[0]\n",
    "#print(arry1)"
   ]
  },
  {
   "cell_type": "markdown",
   "metadata": {},
   "source": [
    "Thanks for providing this useful hint :)"
   ]
  },
  {
   "cell_type": "markdown",
   "metadata": {
    "button": false,
    "new_sheet": false,
    "run_control": {
     "read_only": false
    }
   },
   "source": [
    "## <font color=green>Your Solution</font>\n",
    "\n",
    "*Use a variety of code, Markdown (text) cells below to create your solution. Nice outputs would be timing results, and even plots. You will be graded not only on correctness, but the clarity of your code, descriptive text and other output. Keep it succinct.*"
   ]
  },
  {
   "cell_type": "markdown",
   "metadata": {
    "button": false,
    "collapsed": true,
    "new_sheet": false,
    "run_control": {
     "read_only": false
    }
   },
   "source": [
    "# GitHub: abhijit-baruah\n",
    "## Start by creating our random lists and dictionaries"
   ]
  },
  {
   "cell_type": "code",
   "execution_count": 1,
   "metadata": {},
   "outputs": [
    {
     "name": "stdout",
     "output_type": "stream",
     "text": [
      "The first two entries in array #1 are: 0.05671829948588647 and 0.10430637865875936\n",
      "The first two entries in array #2 are: 0.5952783119509709 and 0.04472561765381189\n",
      "The first two values in our dictionary are : 0.5952783119509709 and 0.04472561765381189\n"
     ]
    }
   ],
   "source": [
    "import random \n",
    "\n",
    "# Two random lists of size 5000 are created\n",
    "arry1 = [random.random() for i in range(5000)]\n",
    "arry2 = [random.random() for i in range(5000)]\n",
    "print(f'The first two entries in array #1 are: {arry1[0]} and {arry1[1]}')\n",
    "print(f'The first two entries in array #2 are: {arry2[0]} and {arry2[1]}')\n",
    "\n",
    "# We create a simple dictionary of key:val pairs using these two lists\n",
    "d1 = dict(zip(arry1,arry2)) \n",
    "d_keys = list(d1.keys()) \n",
    "print(f'The first two values in our dictionary are : {d1[d_keys[0]]} and {d1[d_keys[1]]}')"
   ]
  },
  {
   "cell_type": "markdown",
   "metadata": {},
   "source": [
    "## Perform `del` operation our list and dictionary and calculate time taken for these processes"
   ]
  },
  {
   "cell_type": "markdown",
   "metadata": {},
   "source": [
    "We create two functions called `del_list` and `del_dict` that uses `del` operators on list and dictionary respectively."
   ]
  },
  {
   "cell_type": "code",
   "execution_count": 2,
   "metadata": {},
   "outputs": [],
   "source": [
    "def del_list(array, index):\n",
    "    del array[index]\n",
    "\n",
    "def del_dict(dictionary, key):\n",
    "    del dictionary[key]\n",
    "    "
   ]
  },
  {
   "cell_type": "markdown",
   "metadata": {},
   "source": [
    "Next, we need to time the `del` operator on our list and dictionary. We first apply the operator on our dictionary to delete $N$ number of entries from it and calculate the time taken to perform this operation for each of these $N$ entries as well as the average and elapsed time. We then proceed to do the same for `del` operator on a list. We use `perf_counter()` from `time` to get the most accurate results when testing the difference between two times."
   ]
  },
  {
   "cell_type": "code",
   "execution_count": 3,
   "metadata": {},
   "outputs": [
    {
     "name": "stdout",
     "output_type": "stream",
     "text": [
      "Average time taken to delete 100 entries from our dictionary is: 5.910000001208005e-07 seconds\n",
      "Total elapsed time to delete 100 entries from our dictionary is: 5.9100000012080045e-05 seconds\n"
     ]
    }
   ],
   "source": [
    "import time\n",
    "import numpy as np\n",
    "\n",
    "N = 100 # number of entries to delete\n",
    "time1 = [] # this will be a list of time taken to perform individual del operation for dictionary\n",
    "net_time1 = [] # this will keep count of elapsed time to perform del operation on dictionary entries\n",
    "t = 0\n",
    "\n",
    "for i in range(0, N):\n",
    "    t1 = time.perf_counter() # start stopwatch\n",
    "    del_dict(d1, d_keys[i]) # call the del_dict function to implement del operation on dictionary for index i\n",
    "    t2 = time.perf_counter() # stop stopwatch\n",
    "    time1.append(t2-t1) # updates the list containing the difference in time\n",
    "    t += (t2-t1) # adds consequtive time differences\n",
    "    net_time1.append(t) # updates net time taken\n",
    "\n",
    "#print(time1)\n",
    "print(f'Average time taken to delete {N} entries from our dictionary is: {np.average(time1)} seconds')\n",
    "print(f'Total elapsed time to delete {N} entries from our dictionary is: {net_time1[N-1]} seconds')\n"
   ]
  },
  {
   "cell_type": "code",
   "execution_count": 4,
   "metadata": {},
   "outputs": [
    {
     "name": "stdout",
     "output_type": "stream",
     "text": [
      "Time taken to delete 100 entries from our list is: 1.5900000002488924e-06 seconds\n",
      "Total elapsed time to delete 100 entries from our list is: 0.00015900000002488923 seconds\n"
     ]
    }
   ],
   "source": [
    "# We porform similar execution as above to implement del operator on list\n",
    "\n",
    "time2 = []\n",
    "net_time2 = []\n",
    "t = 0\n",
    "\n",
    "for i in range(0, N):\n",
    "    t1 = time.perf_counter()\n",
    "    del_list(arry1, i)\n",
    "    t2 = time.perf_counter()\n",
    "    time2.append(t2-t1)\n",
    "    t += (t2-t1)\n",
    "    net_time2.append(t)\n",
    "\n",
    "#print(time2)\n",
    "print(f'Time taken to delete {N} entries from our list is: {np.average(time2)} seconds')\n",
    "print(f'Total elapsed time to delete {N} entries from our list is: {net_time2[N-1]} seconds')\n"
   ]
  },
  {
   "cell_type": "markdown",
   "metadata": {
    "button": false,
    "new_sheet": false,
    "run_control": {
     "read_only": false
    }
   },
   "source": [
    "## Testing\n",
    "\n",
    "For full credit, you must also test your solution so that you can prove to the grade your solution works."
   ]
  },
  {
   "cell_type": "markdown",
   "metadata": {},
   "source": [
    "We can check whether our `del` operator was implemented correctly as follows. Printed at the start of our solution are the first two entries from our original list/array and dictionary. After performing `del` operation on the first $N$ entries, we can print below the first two entries from the new list and new dictionary to check the correctness of the operation."
   ]
  },
  {
   "cell_type": "code",
   "execution_count": 5,
   "metadata": {},
   "outputs": [
    {
     "name": "stdout",
     "output_type": "stream",
     "text": [
      "[0.8268752819406704] is the first key after deletion with value 0.4432956200648427\n",
      "Is 0.8268752819406704 equal to the 100-th key in original dictionary? True\n"
     ]
    }
   ],
   "source": [
    "new_key = list(d1.keys())\n",
    "print(f'{[new_key[0]]} is the first key after deletion with value {d1[new_key[0]]}')\n",
    "print(f'Is {new_key[0]} equal to the {N}-th key in original dictionary? {new_key[0] == d_keys[N]}')\n"
   ]
  },
  {
   "cell_type": "markdown",
   "metadata": {},
   "source": [
    "So, our implemention of the `del` operator on dictionaries works as expected. We can similarly check the correctness of the `del` operator on any list with a simple boolean statement as follows:"
   ]
  },
  {
   "cell_type": "code",
   "execution_count": 6,
   "metadata": {},
   "outputs": [
    {
     "name": "stdout",
     "output_type": "stream",
     "text": [
      "For a list [1, 2, 3, 4, 5] applying the del_list function on first index gives us [2, 3, 4, 5]\n"
     ]
    }
   ],
   "source": [
    "s = [1,2,3,4,5]\n",
    "del_list(s, 0)\n",
    "print(f'For a list {[1, 2, 3, 4 ,5]} applying the del_list function on first index gives us {s}')"
   ]
  },
  {
   "cell_type": "markdown",
   "metadata": {},
   "source": [
    "Now that we have checked the correctness of our `del` operator on both lists and dictionaries, we are required to compare the performance of the operator on the same. We do so by:\n",
    "1. Compare the average time to impplement `del` operator between list and dictionary\n",
    "2. Making plots of elapsed times and individual times over $N$"
   ]
  },
  {
   "cell_type": "code",
   "execution_count": 7,
   "metadata": {},
   "outputs": [
    {
     "name": "stdout",
     "output_type": "stream",
     "text": [
      "Does del operation on dictionary take same time as del operation on list?: False\n",
      "Is del operation on dictionary faster than del operation on list?: True\n",
      "Del operator on dictionary is 37.16981132253381% faster than on list by average\n"
     ]
    }
   ],
   "source": [
    "print(f'Does del operation on dictionary take same time as del operation on list?: {np.average(time1)==np.average(time2)}')\n",
    "print(f'Is del operation on dictionary faster than del operation on list?: {np.average(time1)<np.average(time2)}')\n",
    "print(f'Del operator on dictionary is {np.average(time1)/np.average(time2)*100}% faster than on list by average')"
   ]
  },
  {
   "cell_type": "code",
   "execution_count": 9,
   "metadata": {
    "scrolled": true
   },
   "outputs": [
    {
     "data": {
      "image/png": "[encoded data removed]",
      "text/plain": [
       "<Figure size 432x288 with 1 Axes>"
      ]
     },
     "metadata": {
      "needs_background": "light"
     },
     "output_type": "display_data"
    }
   ],
   "source": [
    "import matplotlib.pyplot as plt\n",
    "x = range(0, N)\n",
    "plt.plot(x, net_time1, 'r', label = 'Dictionary')\n",
    "plt.plot(x, net_time2, 'b', label = 'List')\n",
    "plt.legend()\n",
    "plt.ylabel(\"Time taken\")\n",
    "plt.xlabel(\"N\")\n",
    "plt.title(\"Overall time taken to perform DEL operation on lists vs dictionaries\")\n",
    "plt.show()"
   ]
  },
  {
   "cell_type": "code",
   "execution_count": 10,
   "metadata": {
    "button": false,
    "new_sheet": false,
    "run_control": {
     "read_only": false
    }
   },
   "outputs": [
    {
     "data": {
      "image/png": "[encoded data removed]",
      "text/plain": [
       "<Figure size 432x288 with 1 Axes>"
      ]
     },
     "metadata": {
      "needs_background": "light"
     },
     "output_type": "display_data"
    }
   ],
   "source": [
    "import matplotlib.pyplot as plt\n",
    "x = range(0, N)\n",
    "plt.plot(x, time1, 'r', label = 'Dictionary')\n",
    "plt.plot(x, time2, 'b', label = 'List')\n",
    "plt.legend()\n",
    "plt.ylabel(\"Time taken\")\n",
    "plt.xlabel(\"N\")\n",
    "plt.title(\"Time taken to perform per-entry DEL operation on lists vs dictionaries\")\n",
    "plt.show()"
   ]
  },
  {
   "cell_type": "markdown",
   "metadata": {},
   "source": [
    "## Conclusion:\n",
    "\n",
    "`del` operator on dictionary is faster than that on lists."
   ]
  },
  {
   "cell_type": "code",
   "execution_count": null,
   "metadata": {},
   "outputs": [],
   "source": []
  }
 ],
 "metadata": {
  "kernelspec": {
   "display_name": "Python 3",
   "language": "python",
   "name": "python3"
  },
  "language_info": {
   "codemirror_mode": {
    "name": "ipython",
    "version": 3
   },
   "file_extension": ".py",
   "mimetype": "text/x-python",
   "name": "python",
   "nbconvert_exporter": "python",
   "pygments_lexer": "ipython3",
   "version": "3.7.1"
  }
 },
 "nbformat": 4,
 "nbformat_minor": 2
}
